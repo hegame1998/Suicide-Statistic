{
  "nbformat": 4,
  "nbformat_minor": 0,
  "metadata": {
    "colab": {
      "provenance": [],
      "authorship_tag": "ABX9TyOWrowmMrtlqyCo7Yyd3GNS",
      "include_colab_link": true
    },
    "kernelspec": {
      "name": "python3",
      "display_name": "Python 3"
    },
    "language_info": {
      "name": "python"
    }
  },
  "cells": [
    {
      "cell_type": "markdown",
      "metadata": {
        "id": "view-in-github",
        "colab_type": "text"
      },
      "source": [
        "<a href=\"https://colab.research.google.com/github/hegame1998/Suicide-Statistic/blob/main/WHO_Suicide_Statistics.ipynb\" target=\"_parent\"><img src=\"https://colab.research.google.com/assets/colab-badge.svg\" alt=\"Open In Colab\"/></a>"
      ]
    },
    {
      "cell_type": "markdown",
      "source": [
        "# **Importing the modules & libraries**"
      ],
      "metadata": {
        "id": "WnAKn0LOq3L4"
      }
    },
    {
      "cell_type": "code",
      "execution_count": 55,
      "metadata": {
        "id": "z_UfhNKdqOYy"
      },
      "outputs": [],
      "source": [
        "# importing required libraries\n",
        "import pandas as pd\n",
        "import numpy as np\n",
        "import matplotlib.pyplot as plt\n",
        "import seaborn as sns"
      ]
    },
    {
      "cell_type": "markdown",
      "source": [
        "# **Data Importing**"
      ],
      "metadata": {
        "id": "CbWSV39SUfx3"
      }
    },
    {
      "cell_type": "markdown",
      "source": [
        "I called the data from  my GitHub and put them in a specific variable to use it in future analysis."
      ],
      "metadata": {
        "id": "RPzKjzABUpB7"
      }
    },
    {
      "cell_type": "code",
      "source": [
        "# creating the suicide dataframe\n",
        "suicide_df = pd.read_csv('https://raw.githubusercontent.com/hegame1998/Suicide-Statistic/main/who_suicide_statistics.csv')"
      ],
      "metadata": {
        "id": "HBz7O8NfUW4C"
      },
      "execution_count": 56,
      "outputs": []
    },
    {
      "cell_type": "markdown",
      "source": [
        "# **Information about dataset**"
      ],
      "metadata": {
        "id": "gMla6oaF4Y1q"
      }
    },
    {
      "cell_type": "code",
      "source": [
        "# returning suicide dataframe values\n",
        "suicide_df"
      ],
      "metadata": {
        "colab": {
          "base_uri": "https://localhost:8080/",
          "height": 424
        },
        "id": "E01wOkNQ4EXz",
        "outputId": "4a6d2fa0-15fd-436c-e8c4-c37260e96a21"
      },
      "execution_count": 57,
      "outputs": [
        {
          "output_type": "execute_result",
          "data": {
            "text/plain": [
              "        country  year     sex          age  suicides_no  population\n",
              "0       Albania  1985  female  15-24 years          NaN    277900.0\n",
              "1       Albania  1985  female  25-34 years          NaN    246800.0\n",
              "2       Albania  1985  female  35-54 years          NaN    267500.0\n",
              "3       Albania  1985  female   5-14 years          NaN    298300.0\n",
              "4       Albania  1985  female  55-74 years          NaN    138700.0\n",
              "...         ...   ...     ...          ...          ...         ...\n",
              "43771  Zimbabwe  1990    male  25-34 years        150.0         NaN\n",
              "43772  Zimbabwe  1990    male  35-54 years        132.0         NaN\n",
              "43773  Zimbabwe  1990    male   5-14 years          6.0         NaN\n",
              "43774  Zimbabwe  1990    male  55-74 years         74.0         NaN\n",
              "43775  Zimbabwe  1990    male    75+ years         13.0         NaN\n",
              "\n",
              "[43776 rows x 6 columns]"
            ],
            "text/html": [
              "\n",
              "  <div id=\"df-416acab2-f755-44cd-92b8-0d95f82bda34\" class=\"colab-df-container\">\n",
              "    <div>\n",
              "<style scoped>\n",
              "    .dataframe tbody tr th:only-of-type {\n",
              "        vertical-align: middle;\n",
              "    }\n",
              "\n",
              "    .dataframe tbody tr th {\n",
              "        vertical-align: top;\n",
              "    }\n",
              "\n",
              "    .dataframe thead th {\n",
              "        text-align: right;\n",
              "    }\n",
              "</style>\n",
              "<table border=\"1\" class=\"dataframe\">\n",
              "  <thead>\n",
              "    <tr style=\"text-align: right;\">\n",
              "      <th></th>\n",
              "      <th>country</th>\n",
              "      <th>year</th>\n",
              "      <th>sex</th>\n",
              "      <th>age</th>\n",
              "      <th>suicides_no</th>\n",
              "      <th>population</th>\n",
              "    </tr>\n",
              "  </thead>\n",
              "  <tbody>\n",
              "    <tr>\n",
              "      <th>0</th>\n",
              "      <td>Albania</td>\n",
              "      <td>1985</td>\n",
              "      <td>female</td>\n",
              "      <td>15-24 years</td>\n",
              "      <td>NaN</td>\n",
              "      <td>277900.0</td>\n",
              "    </tr>\n",
              "    <tr>\n",
              "      <th>1</th>\n",
              "      <td>Albania</td>\n",
              "      <td>1985</td>\n",
              "      <td>female</td>\n",
              "      <td>25-34 years</td>\n",
              "      <td>NaN</td>\n",
              "      <td>246800.0</td>\n",
              "    </tr>\n",
              "    <tr>\n",
              "      <th>2</th>\n",
              "      <td>Albania</td>\n",
              "      <td>1985</td>\n",
              "      <td>female</td>\n",
              "      <td>35-54 years</td>\n",
              "      <td>NaN</td>\n",
              "      <td>267500.0</td>\n",
              "    </tr>\n",
              "    <tr>\n",
              "      <th>3</th>\n",
              "      <td>Albania</td>\n",
              "      <td>1985</td>\n",
              "      <td>female</td>\n",
              "      <td>5-14 years</td>\n",
              "      <td>NaN</td>\n",
              "      <td>298300.0</td>\n",
              "    </tr>\n",
              "    <tr>\n",
              "      <th>4</th>\n",
              "      <td>Albania</td>\n",
              "      <td>1985</td>\n",
              "      <td>female</td>\n",
              "      <td>55-74 years</td>\n",
              "      <td>NaN</td>\n",
              "      <td>138700.0</td>\n",
              "    </tr>\n",
              "    <tr>\n",
              "      <th>...</th>\n",
              "      <td>...</td>\n",
              "      <td>...</td>\n",
              "      <td>...</td>\n",
              "      <td>...</td>\n",
              "      <td>...</td>\n",
              "      <td>...</td>\n",
              "    </tr>\n",
              "    <tr>\n",
              "      <th>43771</th>\n",
              "      <td>Zimbabwe</td>\n",
              "      <td>1990</td>\n",
              "      <td>male</td>\n",
              "      <td>25-34 years</td>\n",
              "      <td>150.0</td>\n",
              "      <td>NaN</td>\n",
              "    </tr>\n",
              "    <tr>\n",
              "      <th>43772</th>\n",
              "      <td>Zimbabwe</td>\n",
              "      <td>1990</td>\n",
              "      <td>male</td>\n",
              "      <td>35-54 years</td>\n",
              "      <td>132.0</td>\n",
              "      <td>NaN</td>\n",
              "    </tr>\n",
              "    <tr>\n",
              "      <th>43773</th>\n",
              "      <td>Zimbabwe</td>\n",
              "      <td>1990</td>\n",
              "      <td>male</td>\n",
              "      <td>5-14 years</td>\n",
              "      <td>6.0</td>\n",
              "      <td>NaN</td>\n",
              "    </tr>\n",
              "    <tr>\n",
              "      <th>43774</th>\n",
              "      <td>Zimbabwe</td>\n",
              "      <td>1990</td>\n",
              "      <td>male</td>\n",
              "      <td>55-74 years</td>\n",
              "      <td>74.0</td>\n",
              "      <td>NaN</td>\n",
              "    </tr>\n",
              "    <tr>\n",
              "      <th>43775</th>\n",
              "      <td>Zimbabwe</td>\n",
              "      <td>1990</td>\n",
              "      <td>male</td>\n",
              "      <td>75+ years</td>\n",
              "      <td>13.0</td>\n",
              "      <td>NaN</td>\n",
              "    </tr>\n",
              "  </tbody>\n",
              "</table>\n",
              "<p>43776 rows × 6 columns</p>\n",
              "</div>\n",
              "    <div class=\"colab-df-buttons\">\n",
              "\n",
              "  <div class=\"colab-df-container\">\n",
              "    <button class=\"colab-df-convert\" onclick=\"convertToInteractive('df-416acab2-f755-44cd-92b8-0d95f82bda34')\"\n",
              "            title=\"Convert this dataframe to an interactive table.\"\n",
              "            style=\"display:none;\">\n",
              "\n",
              "  <svg xmlns=\"http://www.w3.org/2000/svg\" height=\"24px\" viewBox=\"0 -960 960 960\">\n",
              "    <path d=\"M120-120v-720h720v720H120Zm60-500h600v-160H180v160Zm220 220h160v-160H400v160Zm0 220h160v-160H400v160ZM180-400h160v-160H180v160Zm440 0h160v-160H620v160ZM180-180h160v-160H180v160Zm440 0h160v-160H620v160Z\"/>\n",
              "  </svg>\n",
              "    </button>\n",
              "\n",
              "  <style>\n",
              "    .colab-df-container {\n",
              "      display:flex;\n",
              "      gap: 12px;\n",
              "    }\n",
              "\n",
              "    .colab-df-convert {\n",
              "      background-color: #E8F0FE;\n",
              "      border: none;\n",
              "      border-radius: 50%;\n",
              "      cursor: pointer;\n",
              "      display: none;\n",
              "      fill: #1967D2;\n",
              "      height: 32px;\n",
              "      padding: 0 0 0 0;\n",
              "      width: 32px;\n",
              "    }\n",
              "\n",
              "    .colab-df-convert:hover {\n",
              "      background-color: #E2EBFA;\n",
              "      box-shadow: 0px 1px 2px rgba(60, 64, 67, 0.3), 0px 1px 3px 1px rgba(60, 64, 67, 0.15);\n",
              "      fill: #174EA6;\n",
              "    }\n",
              "\n",
              "    .colab-df-buttons div {\n",
              "      margin-bottom: 4px;\n",
              "    }\n",
              "\n",
              "    [theme=dark] .colab-df-convert {\n",
              "      background-color: #3B4455;\n",
              "      fill: #D2E3FC;\n",
              "    }\n",
              "\n",
              "    [theme=dark] .colab-df-convert:hover {\n",
              "      background-color: #434B5C;\n",
              "      box-shadow: 0px 1px 3px 1px rgba(0, 0, 0, 0.15);\n",
              "      filter: drop-shadow(0px 1px 2px rgba(0, 0, 0, 0.3));\n",
              "      fill: #FFFFFF;\n",
              "    }\n",
              "  </style>\n",
              "\n",
              "    <script>\n",
              "      const buttonEl =\n",
              "        document.querySelector('#df-416acab2-f755-44cd-92b8-0d95f82bda34 button.colab-df-convert');\n",
              "      buttonEl.style.display =\n",
              "        google.colab.kernel.accessAllowed ? 'block' : 'none';\n",
              "\n",
              "      async function convertToInteractive(key) {\n",
              "        const element = document.querySelector('#df-416acab2-f755-44cd-92b8-0d95f82bda34');\n",
              "        const dataTable =\n",
              "          await google.colab.kernel.invokeFunction('convertToInteractive',\n",
              "                                                    [key], {});\n",
              "        if (!dataTable) return;\n",
              "\n",
              "        const docLinkHtml = 'Like what you see? Visit the ' +\n",
              "          '<a target=\"_blank\" href=https://colab.research.google.com/notebooks/data_table.ipynb>data table notebook</a>'\n",
              "          + ' to learn more about interactive tables.';\n",
              "        element.innerHTML = '';\n",
              "        dataTable['output_type'] = 'display_data';\n",
              "        await google.colab.output.renderOutput(dataTable, element);\n",
              "        const docLink = document.createElement('div');\n",
              "        docLink.innerHTML = docLinkHtml;\n",
              "        element.appendChild(docLink);\n",
              "      }\n",
              "    </script>\n",
              "  </div>\n",
              "\n",
              "\n",
              "<div id=\"df-4dacc128-7a85-49f2-b36b-f79f2586c520\">\n",
              "  <button class=\"colab-df-quickchart\" onclick=\"quickchart('df-4dacc128-7a85-49f2-b36b-f79f2586c520')\"\n",
              "            title=\"Suggest charts\"\n",
              "            style=\"display:none;\">\n",
              "\n",
              "<svg xmlns=\"http://www.w3.org/2000/svg\" height=\"24px\"viewBox=\"0 0 24 24\"\n",
              "     width=\"24px\">\n",
              "    <g>\n",
              "        <path d=\"M19 3H5c-1.1 0-2 .9-2 2v14c0 1.1.9 2 2 2h14c1.1 0 2-.9 2-2V5c0-1.1-.9-2-2-2zM9 17H7v-7h2v7zm4 0h-2V7h2v10zm4 0h-2v-4h2v4z\"/>\n",
              "    </g>\n",
              "</svg>\n",
              "  </button>\n",
              "\n",
              "<style>\n",
              "  .colab-df-quickchart {\n",
              "      --bg-color: #E8F0FE;\n",
              "      --fill-color: #1967D2;\n",
              "      --hover-bg-color: #E2EBFA;\n",
              "      --hover-fill-color: #174EA6;\n",
              "      --disabled-fill-color: #AAA;\n",
              "      --disabled-bg-color: #DDD;\n",
              "  }\n",
              "\n",
              "  [theme=dark] .colab-df-quickchart {\n",
              "      --bg-color: #3B4455;\n",
              "      --fill-color: #D2E3FC;\n",
              "      --hover-bg-color: #434B5C;\n",
              "      --hover-fill-color: #FFFFFF;\n",
              "      --disabled-bg-color: #3B4455;\n",
              "      --disabled-fill-color: #666;\n",
              "  }\n",
              "\n",
              "  .colab-df-quickchart {\n",
              "    background-color: var(--bg-color);\n",
              "    border: none;\n",
              "    border-radius: 50%;\n",
              "    cursor: pointer;\n",
              "    display: none;\n",
              "    fill: var(--fill-color);\n",
              "    height: 32px;\n",
              "    padding: 0;\n",
              "    width: 32px;\n",
              "  }\n",
              "\n",
              "  .colab-df-quickchart:hover {\n",
              "    background-color: var(--hover-bg-color);\n",
              "    box-shadow: 0 1px 2px rgba(60, 64, 67, 0.3), 0 1px 3px 1px rgba(60, 64, 67, 0.15);\n",
              "    fill: var(--button-hover-fill-color);\n",
              "  }\n",
              "\n",
              "  .colab-df-quickchart-complete:disabled,\n",
              "  .colab-df-quickchart-complete:disabled:hover {\n",
              "    background-color: var(--disabled-bg-color);\n",
              "    fill: var(--disabled-fill-color);\n",
              "    box-shadow: none;\n",
              "  }\n",
              "\n",
              "  .colab-df-spinner {\n",
              "    border: 2px solid var(--fill-color);\n",
              "    border-color: transparent;\n",
              "    border-bottom-color: var(--fill-color);\n",
              "    animation:\n",
              "      spin 1s steps(1) infinite;\n",
              "  }\n",
              "\n",
              "  @keyframes spin {\n",
              "    0% {\n",
              "      border-color: transparent;\n",
              "      border-bottom-color: var(--fill-color);\n",
              "      border-left-color: var(--fill-color);\n",
              "    }\n",
              "    20% {\n",
              "      border-color: transparent;\n",
              "      border-left-color: var(--fill-color);\n",
              "      border-top-color: var(--fill-color);\n",
              "    }\n",
              "    30% {\n",
              "      border-color: transparent;\n",
              "      border-left-color: var(--fill-color);\n",
              "      border-top-color: var(--fill-color);\n",
              "      border-right-color: var(--fill-color);\n",
              "    }\n",
              "    40% {\n",
              "      border-color: transparent;\n",
              "      border-right-color: var(--fill-color);\n",
              "      border-top-color: var(--fill-color);\n",
              "    }\n",
              "    60% {\n",
              "      border-color: transparent;\n",
              "      border-right-color: var(--fill-color);\n",
              "    }\n",
              "    80% {\n",
              "      border-color: transparent;\n",
              "      border-right-color: var(--fill-color);\n",
              "      border-bottom-color: var(--fill-color);\n",
              "    }\n",
              "    90% {\n",
              "      border-color: transparent;\n",
              "      border-bottom-color: var(--fill-color);\n",
              "    }\n",
              "  }\n",
              "</style>\n",
              "\n",
              "  <script>\n",
              "    async function quickchart(key) {\n",
              "      const quickchartButtonEl =\n",
              "        document.querySelector('#' + key + ' button');\n",
              "      quickchartButtonEl.disabled = true;  // To prevent multiple clicks.\n",
              "      quickchartButtonEl.classList.add('colab-df-spinner');\n",
              "      try {\n",
              "        const charts = await google.colab.kernel.invokeFunction(\n",
              "            'suggestCharts', [key], {});\n",
              "      } catch (error) {\n",
              "        console.error('Error during call to suggestCharts:', error);\n",
              "      }\n",
              "      quickchartButtonEl.classList.remove('colab-df-spinner');\n",
              "      quickchartButtonEl.classList.add('colab-df-quickchart-complete');\n",
              "    }\n",
              "    (() => {\n",
              "      let quickchartButtonEl =\n",
              "        document.querySelector('#df-4dacc128-7a85-49f2-b36b-f79f2586c520 button');\n",
              "      quickchartButtonEl.style.display =\n",
              "        google.colab.kernel.accessAllowed ? 'block' : 'none';\n",
              "    })();\n",
              "  </script>\n",
              "</div>\n",
              "    </div>\n",
              "  </div>\n"
            ],
            "application/vnd.google.colaboratory.intrinsic+json": {
              "type": "dataframe",
              "variable_name": "suicide_df",
              "summary": "{\n  \"name\": \"suicide_df\",\n  \"rows\": 43776,\n  \"fields\": [\n    {\n      \"column\": \"country\",\n      \"properties\": {\n        \"dtype\": \"category\",\n        \"num_unique_values\": 141,\n        \"samples\": [\n          \"Latvia\",\n          \"Saint Vincent and Grenadines\",\n          \"Czech Republic\"\n        ],\n        \"semantic_type\": \"\",\n        \"description\": \"\"\n      }\n    },\n    {\n      \"column\": \"year\",\n      \"properties\": {\n        \"dtype\": \"number\",\n        \"std\": 10,\n        \"min\": 1979,\n        \"max\": 2016,\n        \"num_unique_values\": 38,\n        \"samples\": [\n          2016,\n          1981,\n          1989\n        ],\n        \"semantic_type\": \"\",\n        \"description\": \"\"\n      }\n    },\n    {\n      \"column\": \"sex\",\n      \"properties\": {\n        \"dtype\": \"category\",\n        \"num_unique_values\": 2,\n        \"samples\": [\n          \"male\",\n          \"female\"\n        ],\n        \"semantic_type\": \"\",\n        \"description\": \"\"\n      }\n    },\n    {\n      \"column\": \"age\",\n      \"properties\": {\n        \"dtype\": \"category\",\n        \"num_unique_values\": 6,\n        \"samples\": [\n          \"15-24 years\",\n          \"25-34 years\"\n        ],\n        \"semantic_type\": \"\",\n        \"description\": \"\"\n      }\n    },\n    {\n      \"column\": \"suicides_no\",\n      \"properties\": {\n        \"dtype\": \"number\",\n        \"std\": 800.5899259349661,\n        \"min\": 0.0,\n        \"max\": 22338.0,\n        \"num_unique_values\": 2231,\n        \"samples\": [\n          2349.0,\n          7921.0\n        ],\n        \"semantic_type\": \"\",\n        \"description\": \"\"\n      }\n    },\n    {\n      \"column\": \"population\",\n      \"properties\": {\n        \"dtype\": \"number\",\n        \"std\": 3647231.2274873913,\n        \"min\": 259.0,\n        \"max\": 43805214.0,\n        \"num_unique_values\": 32439,\n        \"samples\": [\n          2121878.0,\n          1626508.0\n        ],\n        \"semantic_type\": \"\",\n        \"description\": \"\"\n      }\n    }\n  ]\n}"
            }
          },
          "metadata": {},
          "execution_count": 57
        }
      ]
    },
    {
      "cell_type": "markdown",
      "source": [
        "In previous code, at the end of dataset we can see the size of data (number of rows and columns) but we can see it with another code :"
      ],
      "metadata": {
        "id": "ANq7ZxeF4j9j"
      }
    },
    {
      "cell_type": "code",
      "source": [
        "suicide_df.shape"
      ],
      "metadata": {
        "colab": {
          "base_uri": "https://localhost:8080/"
        },
        "id": "KGHYosF_4nDH",
        "outputId": "b486c450-b012-47cb-8442-f781e0b5ab11"
      },
      "execution_count": 58,
      "outputs": [
        {
          "output_type": "execute_result",
          "data": {
            "text/plain": [
              "(43776, 6)"
            ]
          },
          "metadata": {},
          "execution_count": 58
        }
      ]
    },
    {
      "cell_type": "markdown",
      "source": [
        "If I want to return the numbers of row of dataset :"
      ],
      "metadata": {
        "id": "NfWiRjKqYgBT"
      }
    },
    {
      "cell_type": "code",
      "source": [
        "# returning the number of rows in suicide dataframe\n",
        "suicide_df.shape[0]"
      ],
      "metadata": {
        "colab": {
          "base_uri": "https://localhost:8080/"
        },
        "id": "WdPdu3Z7Ydv3",
        "outputId": "b5581e54-13c9-41a9-8f34-58e7210208d3"
      },
      "execution_count": 59,
      "outputs": [
        {
          "output_type": "execute_result",
          "data": {
            "text/plain": [
              "43776"
            ]
          },
          "metadata": {},
          "execution_count": 59
        }
      ]
    },
    {
      "cell_type": "markdown",
      "source": [
        "This method is used to retrieve the first few rows of the dataset.\n",
        "It returns 5 rows by default, but we can call for specific rows.\n",
        "We call 8 rows here, so it will return the first 8 rows of the dataset."
      ],
      "metadata": {
        "id": "WJOGmpmD46cX"
      }
    },
    {
      "cell_type": "code",
      "source": [
        "# returning first n rows of suicide dataset\n",
        "suicide_df.head(8)"
      ],
      "metadata": {
        "colab": {
          "base_uri": "https://localhost:8080/",
          "height": 300
        },
        "id": "sZ55N6ys471P",
        "outputId": "dc75499e-b5c6-4e4c-a74b-e6262cf0a5ee"
      },
      "execution_count": 60,
      "outputs": [
        {
          "output_type": "execute_result",
          "data": {
            "text/plain": [
              "   country  year     sex          age  suicides_no  population\n",
              "0  Albania  1985  female  15-24 years          NaN    277900.0\n",
              "1  Albania  1985  female  25-34 years          NaN    246800.0\n",
              "2  Albania  1985  female  35-54 years          NaN    267500.0\n",
              "3  Albania  1985  female   5-14 years          NaN    298300.0\n",
              "4  Albania  1985  female  55-74 years          NaN    138700.0\n",
              "5  Albania  1985  female    75+ years          NaN     34200.0\n",
              "6  Albania  1985    male  15-24 years          NaN    301400.0\n",
              "7  Albania  1985    male  25-34 years          NaN    264200.0"
            ],
            "text/html": [
              "\n",
              "  <div id=\"df-08df3bd2-257d-42a5-9410-3020ddbb5c50\" class=\"colab-df-container\">\n",
              "    <div>\n",
              "<style scoped>\n",
              "    .dataframe tbody tr th:only-of-type {\n",
              "        vertical-align: middle;\n",
              "    }\n",
              "\n",
              "    .dataframe tbody tr th {\n",
              "        vertical-align: top;\n",
              "    }\n",
              "\n",
              "    .dataframe thead th {\n",
              "        text-align: right;\n",
              "    }\n",
              "</style>\n",
              "<table border=\"1\" class=\"dataframe\">\n",
              "  <thead>\n",
              "    <tr style=\"text-align: right;\">\n",
              "      <th></th>\n",
              "      <th>country</th>\n",
              "      <th>year</th>\n",
              "      <th>sex</th>\n",
              "      <th>age</th>\n",
              "      <th>suicides_no</th>\n",
              "      <th>population</th>\n",
              "    </tr>\n",
              "  </thead>\n",
              "  <tbody>\n",
              "    <tr>\n",
              "      <th>0</th>\n",
              "      <td>Albania</td>\n",
              "      <td>1985</td>\n",
              "      <td>female</td>\n",
              "      <td>15-24 years</td>\n",
              "      <td>NaN</td>\n",
              "      <td>277900.0</td>\n",
              "    </tr>\n",
              "    <tr>\n",
              "      <th>1</th>\n",
              "      <td>Albania</td>\n",
              "      <td>1985</td>\n",
              "      <td>female</td>\n",
              "      <td>25-34 years</td>\n",
              "      <td>NaN</td>\n",
              "      <td>246800.0</td>\n",
              "    </tr>\n",
              "    <tr>\n",
              "      <th>2</th>\n",
              "      <td>Albania</td>\n",
              "      <td>1985</td>\n",
              "      <td>female</td>\n",
              "      <td>35-54 years</td>\n",
              "      <td>NaN</td>\n",
              "      <td>267500.0</td>\n",
              "    </tr>\n",
              "    <tr>\n",
              "      <th>3</th>\n",
              "      <td>Albania</td>\n",
              "      <td>1985</td>\n",
              "      <td>female</td>\n",
              "      <td>5-14 years</td>\n",
              "      <td>NaN</td>\n",
              "      <td>298300.0</td>\n",
              "    </tr>\n",
              "    <tr>\n",
              "      <th>4</th>\n",
              "      <td>Albania</td>\n",
              "      <td>1985</td>\n",
              "      <td>female</td>\n",
              "      <td>55-74 years</td>\n",
              "      <td>NaN</td>\n",
              "      <td>138700.0</td>\n",
              "    </tr>\n",
              "    <tr>\n",
              "      <th>5</th>\n",
              "      <td>Albania</td>\n",
              "      <td>1985</td>\n",
              "      <td>female</td>\n",
              "      <td>75+ years</td>\n",
              "      <td>NaN</td>\n",
              "      <td>34200.0</td>\n",
              "    </tr>\n",
              "    <tr>\n",
              "      <th>6</th>\n",
              "      <td>Albania</td>\n",
              "      <td>1985</td>\n",
              "      <td>male</td>\n",
              "      <td>15-24 years</td>\n",
              "      <td>NaN</td>\n",
              "      <td>301400.0</td>\n",
              "    </tr>\n",
              "    <tr>\n",
              "      <th>7</th>\n",
              "      <td>Albania</td>\n",
              "      <td>1985</td>\n",
              "      <td>male</td>\n",
              "      <td>25-34 years</td>\n",
              "      <td>NaN</td>\n",
              "      <td>264200.0</td>\n",
              "    </tr>\n",
              "  </tbody>\n",
              "</table>\n",
              "</div>\n",
              "    <div class=\"colab-df-buttons\">\n",
              "\n",
              "  <div class=\"colab-df-container\">\n",
              "    <button class=\"colab-df-convert\" onclick=\"convertToInteractive('df-08df3bd2-257d-42a5-9410-3020ddbb5c50')\"\n",
              "            title=\"Convert this dataframe to an interactive table.\"\n",
              "            style=\"display:none;\">\n",
              "\n",
              "  <svg xmlns=\"http://www.w3.org/2000/svg\" height=\"24px\" viewBox=\"0 -960 960 960\">\n",
              "    <path d=\"M120-120v-720h720v720H120Zm60-500h600v-160H180v160Zm220 220h160v-160H400v160Zm0 220h160v-160H400v160ZM180-400h160v-160H180v160Zm440 0h160v-160H620v160ZM180-180h160v-160H180v160Zm440 0h160v-160H620v160Z\"/>\n",
              "  </svg>\n",
              "    </button>\n",
              "\n",
              "  <style>\n",
              "    .colab-df-container {\n",
              "      display:flex;\n",
              "      gap: 12px;\n",
              "    }\n",
              "\n",
              "    .colab-df-convert {\n",
              "      background-color: #E8F0FE;\n",
              "      border: none;\n",
              "      border-radius: 50%;\n",
              "      cursor: pointer;\n",
              "      display: none;\n",
              "      fill: #1967D2;\n",
              "      height: 32px;\n",
              "      padding: 0 0 0 0;\n",
              "      width: 32px;\n",
              "    }\n",
              "\n",
              "    .colab-df-convert:hover {\n",
              "      background-color: #E2EBFA;\n",
              "      box-shadow: 0px 1px 2px rgba(60, 64, 67, 0.3), 0px 1px 3px 1px rgba(60, 64, 67, 0.15);\n",
              "      fill: #174EA6;\n",
              "    }\n",
              "\n",
              "    .colab-df-buttons div {\n",
              "      margin-bottom: 4px;\n",
              "    }\n",
              "\n",
              "    [theme=dark] .colab-df-convert {\n",
              "      background-color: #3B4455;\n",
              "      fill: #D2E3FC;\n",
              "    }\n",
              "\n",
              "    [theme=dark] .colab-df-convert:hover {\n",
              "      background-color: #434B5C;\n",
              "      box-shadow: 0px 1px 3px 1px rgba(0, 0, 0, 0.15);\n",
              "      filter: drop-shadow(0px 1px 2px rgba(0, 0, 0, 0.3));\n",
              "      fill: #FFFFFF;\n",
              "    }\n",
              "  </style>\n",
              "\n",
              "    <script>\n",
              "      const buttonEl =\n",
              "        document.querySelector('#df-08df3bd2-257d-42a5-9410-3020ddbb5c50 button.colab-df-convert');\n",
              "      buttonEl.style.display =\n",
              "        google.colab.kernel.accessAllowed ? 'block' : 'none';\n",
              "\n",
              "      async function convertToInteractive(key) {\n",
              "        const element = document.querySelector('#df-08df3bd2-257d-42a5-9410-3020ddbb5c50');\n",
              "        const dataTable =\n",
              "          await google.colab.kernel.invokeFunction('convertToInteractive',\n",
              "                                                    [key], {});\n",
              "        if (!dataTable) return;\n",
              "\n",
              "        const docLinkHtml = 'Like what you see? Visit the ' +\n",
              "          '<a target=\"_blank\" href=https://colab.research.google.com/notebooks/data_table.ipynb>data table notebook</a>'\n",
              "          + ' to learn more about interactive tables.';\n",
              "        element.innerHTML = '';\n",
              "        dataTable['output_type'] = 'display_data';\n",
              "        await google.colab.output.renderOutput(dataTable, element);\n",
              "        const docLink = document.createElement('div');\n",
              "        docLink.innerHTML = docLinkHtml;\n",
              "        element.appendChild(docLink);\n",
              "      }\n",
              "    </script>\n",
              "  </div>\n",
              "\n",
              "\n",
              "<div id=\"df-e992149c-3f43-462b-a319-444b4854e192\">\n",
              "  <button class=\"colab-df-quickchart\" onclick=\"quickchart('df-e992149c-3f43-462b-a319-444b4854e192')\"\n",
              "            title=\"Suggest charts\"\n",
              "            style=\"display:none;\">\n",
              "\n",
              "<svg xmlns=\"http://www.w3.org/2000/svg\" height=\"24px\"viewBox=\"0 0 24 24\"\n",
              "     width=\"24px\">\n",
              "    <g>\n",
              "        <path d=\"M19 3H5c-1.1 0-2 .9-2 2v14c0 1.1.9 2 2 2h14c1.1 0 2-.9 2-2V5c0-1.1-.9-2-2-2zM9 17H7v-7h2v7zm4 0h-2V7h2v10zm4 0h-2v-4h2v4z\"/>\n",
              "    </g>\n",
              "</svg>\n",
              "  </button>\n",
              "\n",
              "<style>\n",
              "  .colab-df-quickchart {\n",
              "      --bg-color: #E8F0FE;\n",
              "      --fill-color: #1967D2;\n",
              "      --hover-bg-color: #E2EBFA;\n",
              "      --hover-fill-color: #174EA6;\n",
              "      --disabled-fill-color: #AAA;\n",
              "      --disabled-bg-color: #DDD;\n",
              "  }\n",
              "\n",
              "  [theme=dark] .colab-df-quickchart {\n",
              "      --bg-color: #3B4455;\n",
              "      --fill-color: #D2E3FC;\n",
              "      --hover-bg-color: #434B5C;\n",
              "      --hover-fill-color: #FFFFFF;\n",
              "      --disabled-bg-color: #3B4455;\n",
              "      --disabled-fill-color: #666;\n",
              "  }\n",
              "\n",
              "  .colab-df-quickchart {\n",
              "    background-color: var(--bg-color);\n",
              "    border: none;\n",
              "    border-radius: 50%;\n",
              "    cursor: pointer;\n",
              "    display: none;\n",
              "    fill: var(--fill-color);\n",
              "    height: 32px;\n",
              "    padding: 0;\n",
              "    width: 32px;\n",
              "  }\n",
              "\n",
              "  .colab-df-quickchart:hover {\n",
              "    background-color: var(--hover-bg-color);\n",
              "    box-shadow: 0 1px 2px rgba(60, 64, 67, 0.3), 0 1px 3px 1px rgba(60, 64, 67, 0.15);\n",
              "    fill: var(--button-hover-fill-color);\n",
              "  }\n",
              "\n",
              "  .colab-df-quickchart-complete:disabled,\n",
              "  .colab-df-quickchart-complete:disabled:hover {\n",
              "    background-color: var(--disabled-bg-color);\n",
              "    fill: var(--disabled-fill-color);\n",
              "    box-shadow: none;\n",
              "  }\n",
              "\n",
              "  .colab-df-spinner {\n",
              "    border: 2px solid var(--fill-color);\n",
              "    border-color: transparent;\n",
              "    border-bottom-color: var(--fill-color);\n",
              "    animation:\n",
              "      spin 1s steps(1) infinite;\n",
              "  }\n",
              "\n",
              "  @keyframes spin {\n",
              "    0% {\n",
              "      border-color: transparent;\n",
              "      border-bottom-color: var(--fill-color);\n",
              "      border-left-color: var(--fill-color);\n",
              "    }\n",
              "    20% {\n",
              "      border-color: transparent;\n",
              "      border-left-color: var(--fill-color);\n",
              "      border-top-color: var(--fill-color);\n",
              "    }\n",
              "    30% {\n",
              "      border-color: transparent;\n",
              "      border-left-color: var(--fill-color);\n",
              "      border-top-color: var(--fill-color);\n",
              "      border-right-color: var(--fill-color);\n",
              "    }\n",
              "    40% {\n",
              "      border-color: transparent;\n",
              "      border-right-color: var(--fill-color);\n",
              "      border-top-color: var(--fill-color);\n",
              "    }\n",
              "    60% {\n",
              "      border-color: transparent;\n",
              "      border-right-color: var(--fill-color);\n",
              "    }\n",
              "    80% {\n",
              "      border-color: transparent;\n",
              "      border-right-color: var(--fill-color);\n",
              "      border-bottom-color: var(--fill-color);\n",
              "    }\n",
              "    90% {\n",
              "      border-color: transparent;\n",
              "      border-bottom-color: var(--fill-color);\n",
              "    }\n",
              "  }\n",
              "</style>\n",
              "\n",
              "  <script>\n",
              "    async function quickchart(key) {\n",
              "      const quickchartButtonEl =\n",
              "        document.querySelector('#' + key + ' button');\n",
              "      quickchartButtonEl.disabled = true;  // To prevent multiple clicks.\n",
              "      quickchartButtonEl.classList.add('colab-df-spinner');\n",
              "      try {\n",
              "        const charts = await google.colab.kernel.invokeFunction(\n",
              "            'suggestCharts', [key], {});\n",
              "      } catch (error) {\n",
              "        console.error('Error during call to suggestCharts:', error);\n",
              "      }\n",
              "      quickchartButtonEl.classList.remove('colab-df-spinner');\n",
              "      quickchartButtonEl.classList.add('colab-df-quickchart-complete');\n",
              "    }\n",
              "    (() => {\n",
              "      let quickchartButtonEl =\n",
              "        document.querySelector('#df-e992149c-3f43-462b-a319-444b4854e192 button');\n",
              "      quickchartButtonEl.style.display =\n",
              "        google.colab.kernel.accessAllowed ? 'block' : 'none';\n",
              "    })();\n",
              "  </script>\n",
              "</div>\n",
              "    </div>\n",
              "  </div>\n"
            ],
            "application/vnd.google.colaboratory.intrinsic+json": {
              "type": "dataframe",
              "variable_name": "suicide_df",
              "summary": "{\n  \"name\": \"suicide_df\",\n  \"rows\": 43776,\n  \"fields\": [\n    {\n      \"column\": \"country\",\n      \"properties\": {\n        \"dtype\": \"category\",\n        \"num_unique_values\": 141,\n        \"samples\": [\n          \"Latvia\",\n          \"Saint Vincent and Grenadines\",\n          \"Czech Republic\"\n        ],\n        \"semantic_type\": \"\",\n        \"description\": \"\"\n      }\n    },\n    {\n      \"column\": \"year\",\n      \"properties\": {\n        \"dtype\": \"number\",\n        \"std\": 10,\n        \"min\": 1979,\n        \"max\": 2016,\n        \"num_unique_values\": 38,\n        \"samples\": [\n          2016,\n          1981,\n          1989\n        ],\n        \"semantic_type\": \"\",\n        \"description\": \"\"\n      }\n    },\n    {\n      \"column\": \"sex\",\n      \"properties\": {\n        \"dtype\": \"category\",\n        \"num_unique_values\": 2,\n        \"samples\": [\n          \"male\",\n          \"female\"\n        ],\n        \"semantic_type\": \"\",\n        \"description\": \"\"\n      }\n    },\n    {\n      \"column\": \"age\",\n      \"properties\": {\n        \"dtype\": \"category\",\n        \"num_unique_values\": 6,\n        \"samples\": [\n          \"15-24 years\",\n          \"25-34 years\"\n        ],\n        \"semantic_type\": \"\",\n        \"description\": \"\"\n      }\n    },\n    {\n      \"column\": \"suicides_no\",\n      \"properties\": {\n        \"dtype\": \"number\",\n        \"std\": 800.5899259349661,\n        \"min\": 0.0,\n        \"max\": 22338.0,\n        \"num_unique_values\": 2231,\n        \"samples\": [\n          2349.0,\n          7921.0\n        ],\n        \"semantic_type\": \"\",\n        \"description\": \"\"\n      }\n    },\n    {\n      \"column\": \"population\",\n      \"properties\": {\n        \"dtype\": \"number\",\n        \"std\": 3647231.2274873913,\n        \"min\": 259.0,\n        \"max\": 43805214.0,\n        \"num_unique_values\": 32439,\n        \"samples\": [\n          2121878.0,\n          1626508.0\n        ],\n        \"semantic_type\": \"\",\n        \"description\": \"\"\n      }\n    }\n  ]\n}"
            }
          },
          "metadata": {},
          "execution_count": 60
        }
      ]
    },
    {
      "cell_type": "markdown",
      "source": [
        "This code same as last code but print the last rows of dataset"
      ],
      "metadata": {
        "id": "mLkDxhbM5GDL"
      }
    },
    {
      "cell_type": "code",
      "source": [
        "# returning last n rows of suicide dataset\n",
        "suicide_df.tail(3)"
      ],
      "metadata": {
        "colab": {
          "base_uri": "https://localhost:8080/",
          "height": 143
        },
        "id": "ToPXBnTZ5IVV",
        "outputId": "c4f1642b-c742-4d01-b054-033891b5ca25"
      },
      "execution_count": 61,
      "outputs": [
        {
          "output_type": "execute_result",
          "data": {
            "text/plain": [
              "        country  year   sex          age  suicides_no  population\n",
              "43773  Zimbabwe  1990  male   5-14 years          6.0         NaN\n",
              "43774  Zimbabwe  1990  male  55-74 years         74.0         NaN\n",
              "43775  Zimbabwe  1990  male    75+ years         13.0         NaN"
            ],
            "text/html": [
              "\n",
              "  <div id=\"df-36db7c81-37b4-4396-a14a-9a2a8e203fe6\" class=\"colab-df-container\">\n",
              "    <div>\n",
              "<style scoped>\n",
              "    .dataframe tbody tr th:only-of-type {\n",
              "        vertical-align: middle;\n",
              "    }\n",
              "\n",
              "    .dataframe tbody tr th {\n",
              "        vertical-align: top;\n",
              "    }\n",
              "\n",
              "    .dataframe thead th {\n",
              "        text-align: right;\n",
              "    }\n",
              "</style>\n",
              "<table border=\"1\" class=\"dataframe\">\n",
              "  <thead>\n",
              "    <tr style=\"text-align: right;\">\n",
              "      <th></th>\n",
              "      <th>country</th>\n",
              "      <th>year</th>\n",
              "      <th>sex</th>\n",
              "      <th>age</th>\n",
              "      <th>suicides_no</th>\n",
              "      <th>population</th>\n",
              "    </tr>\n",
              "  </thead>\n",
              "  <tbody>\n",
              "    <tr>\n",
              "      <th>43773</th>\n",
              "      <td>Zimbabwe</td>\n",
              "      <td>1990</td>\n",
              "      <td>male</td>\n",
              "      <td>5-14 years</td>\n",
              "      <td>6.0</td>\n",
              "      <td>NaN</td>\n",
              "    </tr>\n",
              "    <tr>\n",
              "      <th>43774</th>\n",
              "      <td>Zimbabwe</td>\n",
              "      <td>1990</td>\n",
              "      <td>male</td>\n",
              "      <td>55-74 years</td>\n",
              "      <td>74.0</td>\n",
              "      <td>NaN</td>\n",
              "    </tr>\n",
              "    <tr>\n",
              "      <th>43775</th>\n",
              "      <td>Zimbabwe</td>\n",
              "      <td>1990</td>\n",
              "      <td>male</td>\n",
              "      <td>75+ years</td>\n",
              "      <td>13.0</td>\n",
              "      <td>NaN</td>\n",
              "    </tr>\n",
              "  </tbody>\n",
              "</table>\n",
              "</div>\n",
              "    <div class=\"colab-df-buttons\">\n",
              "\n",
              "  <div class=\"colab-df-container\">\n",
              "    <button class=\"colab-df-convert\" onclick=\"convertToInteractive('df-36db7c81-37b4-4396-a14a-9a2a8e203fe6')\"\n",
              "            title=\"Convert this dataframe to an interactive table.\"\n",
              "            style=\"display:none;\">\n",
              "\n",
              "  <svg xmlns=\"http://www.w3.org/2000/svg\" height=\"24px\" viewBox=\"0 -960 960 960\">\n",
              "    <path d=\"M120-120v-720h720v720H120Zm60-500h600v-160H180v160Zm220 220h160v-160H400v160Zm0 220h160v-160H400v160ZM180-400h160v-160H180v160Zm440 0h160v-160H620v160ZM180-180h160v-160H180v160Zm440 0h160v-160H620v160Z\"/>\n",
              "  </svg>\n",
              "    </button>\n",
              "\n",
              "  <style>\n",
              "    .colab-df-container {\n",
              "      display:flex;\n",
              "      gap: 12px;\n",
              "    }\n",
              "\n",
              "    .colab-df-convert {\n",
              "      background-color: #E8F0FE;\n",
              "      border: none;\n",
              "      border-radius: 50%;\n",
              "      cursor: pointer;\n",
              "      display: none;\n",
              "      fill: #1967D2;\n",
              "      height: 32px;\n",
              "      padding: 0 0 0 0;\n",
              "      width: 32px;\n",
              "    }\n",
              "\n",
              "    .colab-df-convert:hover {\n",
              "      background-color: #E2EBFA;\n",
              "      box-shadow: 0px 1px 2px rgba(60, 64, 67, 0.3), 0px 1px 3px 1px rgba(60, 64, 67, 0.15);\n",
              "      fill: #174EA6;\n",
              "    }\n",
              "\n",
              "    .colab-df-buttons div {\n",
              "      margin-bottom: 4px;\n",
              "    }\n",
              "\n",
              "    [theme=dark] .colab-df-convert {\n",
              "      background-color: #3B4455;\n",
              "      fill: #D2E3FC;\n",
              "    }\n",
              "\n",
              "    [theme=dark] .colab-df-convert:hover {\n",
              "      background-color: #434B5C;\n",
              "      box-shadow: 0px 1px 3px 1px rgba(0, 0, 0, 0.15);\n",
              "      filter: drop-shadow(0px 1px 2px rgba(0, 0, 0, 0.3));\n",
              "      fill: #FFFFFF;\n",
              "    }\n",
              "  </style>\n",
              "\n",
              "    <script>\n",
              "      const buttonEl =\n",
              "        document.querySelector('#df-36db7c81-37b4-4396-a14a-9a2a8e203fe6 button.colab-df-convert');\n",
              "      buttonEl.style.display =\n",
              "        google.colab.kernel.accessAllowed ? 'block' : 'none';\n",
              "\n",
              "      async function convertToInteractive(key) {\n",
              "        const element = document.querySelector('#df-36db7c81-37b4-4396-a14a-9a2a8e203fe6');\n",
              "        const dataTable =\n",
              "          await google.colab.kernel.invokeFunction('convertToInteractive',\n",
              "                                                    [key], {});\n",
              "        if (!dataTable) return;\n",
              "\n",
              "        const docLinkHtml = 'Like what you see? Visit the ' +\n",
              "          '<a target=\"_blank\" href=https://colab.research.google.com/notebooks/data_table.ipynb>data table notebook</a>'\n",
              "          + ' to learn more about interactive tables.';\n",
              "        element.innerHTML = '';\n",
              "        dataTable['output_type'] = 'display_data';\n",
              "        await google.colab.output.renderOutput(dataTable, element);\n",
              "        const docLink = document.createElement('div');\n",
              "        docLink.innerHTML = docLinkHtml;\n",
              "        element.appendChild(docLink);\n",
              "      }\n",
              "    </script>\n",
              "  </div>\n",
              "\n",
              "\n",
              "<div id=\"df-3af342ca-417c-487a-b12e-6747ae340d32\">\n",
              "  <button class=\"colab-df-quickchart\" onclick=\"quickchart('df-3af342ca-417c-487a-b12e-6747ae340d32')\"\n",
              "            title=\"Suggest charts\"\n",
              "            style=\"display:none;\">\n",
              "\n",
              "<svg xmlns=\"http://www.w3.org/2000/svg\" height=\"24px\"viewBox=\"0 0 24 24\"\n",
              "     width=\"24px\">\n",
              "    <g>\n",
              "        <path d=\"M19 3H5c-1.1 0-2 .9-2 2v14c0 1.1.9 2 2 2h14c1.1 0 2-.9 2-2V5c0-1.1-.9-2-2-2zM9 17H7v-7h2v7zm4 0h-2V7h2v10zm4 0h-2v-4h2v4z\"/>\n",
              "    </g>\n",
              "</svg>\n",
              "  </button>\n",
              "\n",
              "<style>\n",
              "  .colab-df-quickchart {\n",
              "      --bg-color: #E8F0FE;\n",
              "      --fill-color: #1967D2;\n",
              "      --hover-bg-color: #E2EBFA;\n",
              "      --hover-fill-color: #174EA6;\n",
              "      --disabled-fill-color: #AAA;\n",
              "      --disabled-bg-color: #DDD;\n",
              "  }\n",
              "\n",
              "  [theme=dark] .colab-df-quickchart {\n",
              "      --bg-color: #3B4455;\n",
              "      --fill-color: #D2E3FC;\n",
              "      --hover-bg-color: #434B5C;\n",
              "      --hover-fill-color: #FFFFFF;\n",
              "      --disabled-bg-color: #3B4455;\n",
              "      --disabled-fill-color: #666;\n",
              "  }\n",
              "\n",
              "  .colab-df-quickchart {\n",
              "    background-color: var(--bg-color);\n",
              "    border: none;\n",
              "    border-radius: 50%;\n",
              "    cursor: pointer;\n",
              "    display: none;\n",
              "    fill: var(--fill-color);\n",
              "    height: 32px;\n",
              "    padding: 0;\n",
              "    width: 32px;\n",
              "  }\n",
              "\n",
              "  .colab-df-quickchart:hover {\n",
              "    background-color: var(--hover-bg-color);\n",
              "    box-shadow: 0 1px 2px rgba(60, 64, 67, 0.3), 0 1px 3px 1px rgba(60, 64, 67, 0.15);\n",
              "    fill: var(--button-hover-fill-color);\n",
              "  }\n",
              "\n",
              "  .colab-df-quickchart-complete:disabled,\n",
              "  .colab-df-quickchart-complete:disabled:hover {\n",
              "    background-color: var(--disabled-bg-color);\n",
              "    fill: var(--disabled-fill-color);\n",
              "    box-shadow: none;\n",
              "  }\n",
              "\n",
              "  .colab-df-spinner {\n",
              "    border: 2px solid var(--fill-color);\n",
              "    border-color: transparent;\n",
              "    border-bottom-color: var(--fill-color);\n",
              "    animation:\n",
              "      spin 1s steps(1) infinite;\n",
              "  }\n",
              "\n",
              "  @keyframes spin {\n",
              "    0% {\n",
              "      border-color: transparent;\n",
              "      border-bottom-color: var(--fill-color);\n",
              "      border-left-color: var(--fill-color);\n",
              "    }\n",
              "    20% {\n",
              "      border-color: transparent;\n",
              "      border-left-color: var(--fill-color);\n",
              "      border-top-color: var(--fill-color);\n",
              "    }\n",
              "    30% {\n",
              "      border-color: transparent;\n",
              "      border-left-color: var(--fill-color);\n",
              "      border-top-color: var(--fill-color);\n",
              "      border-right-color: var(--fill-color);\n",
              "    }\n",
              "    40% {\n",
              "      border-color: transparent;\n",
              "      border-right-color: var(--fill-color);\n",
              "      border-top-color: var(--fill-color);\n",
              "    }\n",
              "    60% {\n",
              "      border-color: transparent;\n",
              "      border-right-color: var(--fill-color);\n",
              "    }\n",
              "    80% {\n",
              "      border-color: transparent;\n",
              "      border-right-color: var(--fill-color);\n",
              "      border-bottom-color: var(--fill-color);\n",
              "    }\n",
              "    90% {\n",
              "      border-color: transparent;\n",
              "      border-bottom-color: var(--fill-color);\n",
              "    }\n",
              "  }\n",
              "</style>\n",
              "\n",
              "  <script>\n",
              "    async function quickchart(key) {\n",
              "      const quickchartButtonEl =\n",
              "        document.querySelector('#' + key + ' button');\n",
              "      quickchartButtonEl.disabled = true;  // To prevent multiple clicks.\n",
              "      quickchartButtonEl.classList.add('colab-df-spinner');\n",
              "      try {\n",
              "        const charts = await google.colab.kernel.invokeFunction(\n",
              "            'suggestCharts', [key], {});\n",
              "      } catch (error) {\n",
              "        console.error('Error during call to suggestCharts:', error);\n",
              "      }\n",
              "      quickchartButtonEl.classList.remove('colab-df-spinner');\n",
              "      quickchartButtonEl.classList.add('colab-df-quickchart-complete');\n",
              "    }\n",
              "    (() => {\n",
              "      let quickchartButtonEl =\n",
              "        document.querySelector('#df-3af342ca-417c-487a-b12e-6747ae340d32 button');\n",
              "      quickchartButtonEl.style.display =\n",
              "        google.colab.kernel.accessAllowed ? 'block' : 'none';\n",
              "    })();\n",
              "  </script>\n",
              "</div>\n",
              "    </div>\n",
              "  </div>\n"
            ],
            "application/vnd.google.colaboratory.intrinsic+json": {
              "type": "dataframe",
              "summary": "{\n  \"name\": \"suicide_df\",\n  \"rows\": 3,\n  \"fields\": [\n    {\n      \"column\": \"country\",\n      \"properties\": {\n        \"dtype\": \"category\",\n        \"num_unique_values\": 1,\n        \"samples\": [\n          \"Zimbabwe\"\n        ],\n        \"semantic_type\": \"\",\n        \"description\": \"\"\n      }\n    },\n    {\n      \"column\": \"year\",\n      \"properties\": {\n        \"dtype\": \"number\",\n        \"std\": 0,\n        \"min\": 1990,\n        \"max\": 1990,\n        \"num_unique_values\": 1,\n        \"samples\": [\n          1990\n        ],\n        \"semantic_type\": \"\",\n        \"description\": \"\"\n      }\n    },\n    {\n      \"column\": \"sex\",\n      \"properties\": {\n        \"dtype\": \"category\",\n        \"num_unique_values\": 1,\n        \"samples\": [\n          \"male\"\n        ],\n        \"semantic_type\": \"\",\n        \"description\": \"\"\n      }\n    },\n    {\n      \"column\": \"age\",\n      \"properties\": {\n        \"dtype\": \"string\",\n        \"num_unique_values\": 3,\n        \"samples\": [\n          \"5-14 years\"\n        ],\n        \"semantic_type\": \"\",\n        \"description\": \"\"\n      }\n    },\n    {\n      \"column\": \"suicides_no\",\n      \"properties\": {\n        \"dtype\": \"number\",\n        \"std\": 37.403208418530085,\n        \"min\": 6.0,\n        \"max\": 74.0,\n        \"num_unique_values\": 3,\n        \"samples\": [\n          6.0\n        ],\n        \"semantic_type\": \"\",\n        \"description\": \"\"\n      }\n    },\n    {\n      \"column\": \"population\",\n      \"properties\": {\n        \"dtype\": \"number\",\n        \"std\": null,\n        \"min\": null,\n        \"max\": null,\n        \"num_unique_values\": 0,\n        \"samples\": [],\n        \"semantic_type\": \"\",\n        \"description\": \"\"\n      }\n    }\n  ]\n}"
            }
          },
          "metadata": {},
          "execution_count": 61
        }
      ]
    },
    {
      "cell_type": "markdown",
      "source": [
        "This method provides a concise summary of the dataset's information, including the number of non-null entries and the data types of each column.<br>This is useful for understanding the data types in dataset and identifying any missing values so we can clean the data if there is any empty cell."
      ],
      "metadata": {
        "id": "jh4Rlj8IPM7n"
      }
    },
    {
      "cell_type": "code",
      "source": [
        "# getting information about each column counts and datatype in suicide dataframe\n",
        "suicide_df.info()"
      ],
      "metadata": {
        "colab": {
          "base_uri": "https://localhost:8080/"
        },
        "id": "5q9VkK7BPSxu",
        "outputId": "74d3368b-0c21-416e-ee5e-42226dc7805d"
      },
      "execution_count": 62,
      "outputs": [
        {
          "output_type": "stream",
          "name": "stdout",
          "text": [
            "<class 'pandas.core.frame.DataFrame'>\n",
            "RangeIndex: 43776 entries, 0 to 43775\n",
            "Data columns (total 6 columns):\n",
            " #   Column       Non-Null Count  Dtype  \n",
            "---  ------       --------------  -----  \n",
            " 0   country      43776 non-null  object \n",
            " 1   year         43776 non-null  int64  \n",
            " 2   sex          43776 non-null  object \n",
            " 3   age          43776 non-null  object \n",
            " 4   suicides_no  41520 non-null  float64\n",
            " 5   population   38316 non-null  float64\n",
            "dtypes: float64(2), int64(1), object(3)\n",
            "memory usage: 2.0+ MB\n"
          ]
        }
      ]
    },
    {
      "cell_type": "markdown",
      "source": [
        "This method is used to generate descriptive statistics of the data.\n",
        "For a dataset, it provides a summary of the central tendency, dispersion, and shape of the distribution of the data. For each numeric column in the dataset, it calculates statistics such as count, mean, standard deviation, minimum, 25th percentile, median (50th percentile), 75th percentile, and maximum."
      ],
      "metadata": {
        "id": "Shs_cEpVP-eD"
      }
    },
    {
      "cell_type": "code",
      "source": [
        "# getting information like min,max and mean about numeric columns in suicide dataframe\n",
        "suicide_df.describe()"
      ],
      "metadata": {
        "colab": {
          "base_uri": "https://localhost:8080/",
          "height": 300
        },
        "id": "dG3lwq-RP_bV",
        "outputId": "8469006a-6e52-4dfc-efcc-5a8512bdc5f9"
      },
      "execution_count": 63,
      "outputs": [
        {
          "output_type": "execute_result",
          "data": {
            "text/plain": [
              "               year   suicides_no    population\n",
              "count  43776.000000  41520.000000  3.831600e+04\n",
              "mean    1998.502467    193.315390  1.664091e+06\n",
              "std       10.338711    800.589926  3.647231e+06\n",
              "min     1979.000000      0.000000  2.590000e+02\n",
              "25%     1990.000000      1.000000  8.511275e+04\n",
              "50%     1999.000000     14.000000  3.806550e+05\n",
              "75%     2007.000000     91.000000  1.305698e+06\n",
              "max     2016.000000  22338.000000  4.380521e+07"
            ],
            "text/html": [
              "\n",
              "  <div id=\"df-476272cd-7b0a-4c7f-a1ae-39a5d61c9e9e\" class=\"colab-df-container\">\n",
              "    <div>\n",
              "<style scoped>\n",
              "    .dataframe tbody tr th:only-of-type {\n",
              "        vertical-align: middle;\n",
              "    }\n",
              "\n",
              "    .dataframe tbody tr th {\n",
              "        vertical-align: top;\n",
              "    }\n",
              "\n",
              "    .dataframe thead th {\n",
              "        text-align: right;\n",
              "    }\n",
              "</style>\n",
              "<table border=\"1\" class=\"dataframe\">\n",
              "  <thead>\n",
              "    <tr style=\"text-align: right;\">\n",
              "      <th></th>\n",
              "      <th>year</th>\n",
              "      <th>suicides_no</th>\n",
              "      <th>population</th>\n",
              "    </tr>\n",
              "  </thead>\n",
              "  <tbody>\n",
              "    <tr>\n",
              "      <th>count</th>\n",
              "      <td>43776.000000</td>\n",
              "      <td>41520.000000</td>\n",
              "      <td>3.831600e+04</td>\n",
              "    </tr>\n",
              "    <tr>\n",
              "      <th>mean</th>\n",
              "      <td>1998.502467</td>\n",
              "      <td>193.315390</td>\n",
              "      <td>1.664091e+06</td>\n",
              "    </tr>\n",
              "    <tr>\n",
              "      <th>std</th>\n",
              "      <td>10.338711</td>\n",
              "      <td>800.589926</td>\n",
              "      <td>3.647231e+06</td>\n",
              "    </tr>\n",
              "    <tr>\n",
              "      <th>min</th>\n",
              "      <td>1979.000000</td>\n",
              "      <td>0.000000</td>\n",
              "      <td>2.590000e+02</td>\n",
              "    </tr>\n",
              "    <tr>\n",
              "      <th>25%</th>\n",
              "      <td>1990.000000</td>\n",
              "      <td>1.000000</td>\n",
              "      <td>8.511275e+04</td>\n",
              "    </tr>\n",
              "    <tr>\n",
              "      <th>50%</th>\n",
              "      <td>1999.000000</td>\n",
              "      <td>14.000000</td>\n",
              "      <td>3.806550e+05</td>\n",
              "    </tr>\n",
              "    <tr>\n",
              "      <th>75%</th>\n",
              "      <td>2007.000000</td>\n",
              "      <td>91.000000</td>\n",
              "      <td>1.305698e+06</td>\n",
              "    </tr>\n",
              "    <tr>\n",
              "      <th>max</th>\n",
              "      <td>2016.000000</td>\n",
              "      <td>22338.000000</td>\n",
              "      <td>4.380521e+07</td>\n",
              "    </tr>\n",
              "  </tbody>\n",
              "</table>\n",
              "</div>\n",
              "    <div class=\"colab-df-buttons\">\n",
              "\n",
              "  <div class=\"colab-df-container\">\n",
              "    <button class=\"colab-df-convert\" onclick=\"convertToInteractive('df-476272cd-7b0a-4c7f-a1ae-39a5d61c9e9e')\"\n",
              "            title=\"Convert this dataframe to an interactive table.\"\n",
              "            style=\"display:none;\">\n",
              "\n",
              "  <svg xmlns=\"http://www.w3.org/2000/svg\" height=\"24px\" viewBox=\"0 -960 960 960\">\n",
              "    <path d=\"M120-120v-720h720v720H120Zm60-500h600v-160H180v160Zm220 220h160v-160H400v160Zm0 220h160v-160H400v160ZM180-400h160v-160H180v160Zm440 0h160v-160H620v160ZM180-180h160v-160H180v160Zm440 0h160v-160H620v160Z\"/>\n",
              "  </svg>\n",
              "    </button>\n",
              "\n",
              "  <style>\n",
              "    .colab-df-container {\n",
              "      display:flex;\n",
              "      gap: 12px;\n",
              "    }\n",
              "\n",
              "    .colab-df-convert {\n",
              "      background-color: #E8F0FE;\n",
              "      border: none;\n",
              "      border-radius: 50%;\n",
              "      cursor: pointer;\n",
              "      display: none;\n",
              "      fill: #1967D2;\n",
              "      height: 32px;\n",
              "      padding: 0 0 0 0;\n",
              "      width: 32px;\n",
              "    }\n",
              "\n",
              "    .colab-df-convert:hover {\n",
              "      background-color: #E2EBFA;\n",
              "      box-shadow: 0px 1px 2px rgba(60, 64, 67, 0.3), 0px 1px 3px 1px rgba(60, 64, 67, 0.15);\n",
              "      fill: #174EA6;\n",
              "    }\n",
              "\n",
              "    .colab-df-buttons div {\n",
              "      margin-bottom: 4px;\n",
              "    }\n",
              "\n",
              "    [theme=dark] .colab-df-convert {\n",
              "      background-color: #3B4455;\n",
              "      fill: #D2E3FC;\n",
              "    }\n",
              "\n",
              "    [theme=dark] .colab-df-convert:hover {\n",
              "      background-color: #434B5C;\n",
              "      box-shadow: 0px 1px 3px 1px rgba(0, 0, 0, 0.15);\n",
              "      filter: drop-shadow(0px 1px 2px rgba(0, 0, 0, 0.3));\n",
              "      fill: #FFFFFF;\n",
              "    }\n",
              "  </style>\n",
              "\n",
              "    <script>\n",
              "      const buttonEl =\n",
              "        document.querySelector('#df-476272cd-7b0a-4c7f-a1ae-39a5d61c9e9e button.colab-df-convert');\n",
              "      buttonEl.style.display =\n",
              "        google.colab.kernel.accessAllowed ? 'block' : 'none';\n",
              "\n",
              "      async function convertToInteractive(key) {\n",
              "        const element = document.querySelector('#df-476272cd-7b0a-4c7f-a1ae-39a5d61c9e9e');\n",
              "        const dataTable =\n",
              "          await google.colab.kernel.invokeFunction('convertToInteractive',\n",
              "                                                    [key], {});\n",
              "        if (!dataTable) return;\n",
              "\n",
              "        const docLinkHtml = 'Like what you see? Visit the ' +\n",
              "          '<a target=\"_blank\" href=https://colab.research.google.com/notebooks/data_table.ipynb>data table notebook</a>'\n",
              "          + ' to learn more about interactive tables.';\n",
              "        element.innerHTML = '';\n",
              "        dataTable['output_type'] = 'display_data';\n",
              "        await google.colab.output.renderOutput(dataTable, element);\n",
              "        const docLink = document.createElement('div');\n",
              "        docLink.innerHTML = docLinkHtml;\n",
              "        element.appendChild(docLink);\n",
              "      }\n",
              "    </script>\n",
              "  </div>\n",
              "\n",
              "\n",
              "<div id=\"df-958a55ea-f00b-4ba7-817a-2733ac09c43f\">\n",
              "  <button class=\"colab-df-quickchart\" onclick=\"quickchart('df-958a55ea-f00b-4ba7-817a-2733ac09c43f')\"\n",
              "            title=\"Suggest charts\"\n",
              "            style=\"display:none;\">\n",
              "\n",
              "<svg xmlns=\"http://www.w3.org/2000/svg\" height=\"24px\"viewBox=\"0 0 24 24\"\n",
              "     width=\"24px\">\n",
              "    <g>\n",
              "        <path d=\"M19 3H5c-1.1 0-2 .9-2 2v14c0 1.1.9 2 2 2h14c1.1 0 2-.9 2-2V5c0-1.1-.9-2-2-2zM9 17H7v-7h2v7zm4 0h-2V7h2v10zm4 0h-2v-4h2v4z\"/>\n",
              "    </g>\n",
              "</svg>\n",
              "  </button>\n",
              "\n",
              "<style>\n",
              "  .colab-df-quickchart {\n",
              "      --bg-color: #E8F0FE;\n",
              "      --fill-color: #1967D2;\n",
              "      --hover-bg-color: #E2EBFA;\n",
              "      --hover-fill-color: #174EA6;\n",
              "      --disabled-fill-color: #AAA;\n",
              "      --disabled-bg-color: #DDD;\n",
              "  }\n",
              "\n",
              "  [theme=dark] .colab-df-quickchart {\n",
              "      --bg-color: #3B4455;\n",
              "      --fill-color: #D2E3FC;\n",
              "      --hover-bg-color: #434B5C;\n",
              "      --hover-fill-color: #FFFFFF;\n",
              "      --disabled-bg-color: #3B4455;\n",
              "      --disabled-fill-color: #666;\n",
              "  }\n",
              "\n",
              "  .colab-df-quickchart {\n",
              "    background-color: var(--bg-color);\n",
              "    border: none;\n",
              "    border-radius: 50%;\n",
              "    cursor: pointer;\n",
              "    display: none;\n",
              "    fill: var(--fill-color);\n",
              "    height: 32px;\n",
              "    padding: 0;\n",
              "    width: 32px;\n",
              "  }\n",
              "\n",
              "  .colab-df-quickchart:hover {\n",
              "    background-color: var(--hover-bg-color);\n",
              "    box-shadow: 0 1px 2px rgba(60, 64, 67, 0.3), 0 1px 3px 1px rgba(60, 64, 67, 0.15);\n",
              "    fill: var(--button-hover-fill-color);\n",
              "  }\n",
              "\n",
              "  .colab-df-quickchart-complete:disabled,\n",
              "  .colab-df-quickchart-complete:disabled:hover {\n",
              "    background-color: var(--disabled-bg-color);\n",
              "    fill: var(--disabled-fill-color);\n",
              "    box-shadow: none;\n",
              "  }\n",
              "\n",
              "  .colab-df-spinner {\n",
              "    border: 2px solid var(--fill-color);\n",
              "    border-color: transparent;\n",
              "    border-bottom-color: var(--fill-color);\n",
              "    animation:\n",
              "      spin 1s steps(1) infinite;\n",
              "  }\n",
              "\n",
              "  @keyframes spin {\n",
              "    0% {\n",
              "      border-color: transparent;\n",
              "      border-bottom-color: var(--fill-color);\n",
              "      border-left-color: var(--fill-color);\n",
              "    }\n",
              "    20% {\n",
              "      border-color: transparent;\n",
              "      border-left-color: var(--fill-color);\n",
              "      border-top-color: var(--fill-color);\n",
              "    }\n",
              "    30% {\n",
              "      border-color: transparent;\n",
              "      border-left-color: var(--fill-color);\n",
              "      border-top-color: var(--fill-color);\n",
              "      border-right-color: var(--fill-color);\n",
              "    }\n",
              "    40% {\n",
              "      border-color: transparent;\n",
              "      border-right-color: var(--fill-color);\n",
              "      border-top-color: var(--fill-color);\n",
              "    }\n",
              "    60% {\n",
              "      border-color: transparent;\n",
              "      border-right-color: var(--fill-color);\n",
              "    }\n",
              "    80% {\n",
              "      border-color: transparent;\n",
              "      border-right-color: var(--fill-color);\n",
              "      border-bottom-color: var(--fill-color);\n",
              "    }\n",
              "    90% {\n",
              "      border-color: transparent;\n",
              "      border-bottom-color: var(--fill-color);\n",
              "    }\n",
              "  }\n",
              "</style>\n",
              "\n",
              "  <script>\n",
              "    async function quickchart(key) {\n",
              "      const quickchartButtonEl =\n",
              "        document.querySelector('#' + key + ' button');\n",
              "      quickchartButtonEl.disabled = true;  // To prevent multiple clicks.\n",
              "      quickchartButtonEl.classList.add('colab-df-spinner');\n",
              "      try {\n",
              "        const charts = await google.colab.kernel.invokeFunction(\n",
              "            'suggestCharts', [key], {});\n",
              "      } catch (error) {\n",
              "        console.error('Error during call to suggestCharts:', error);\n",
              "      }\n",
              "      quickchartButtonEl.classList.remove('colab-df-spinner');\n",
              "      quickchartButtonEl.classList.add('colab-df-quickchart-complete');\n",
              "    }\n",
              "    (() => {\n",
              "      let quickchartButtonEl =\n",
              "        document.querySelector('#df-958a55ea-f00b-4ba7-817a-2733ac09c43f button');\n",
              "      quickchartButtonEl.style.display =\n",
              "        google.colab.kernel.accessAllowed ? 'block' : 'none';\n",
              "    })();\n",
              "  </script>\n",
              "</div>\n",
              "    </div>\n",
              "  </div>\n"
            ],
            "application/vnd.google.colaboratory.intrinsic+json": {
              "type": "dataframe",
              "summary": "{\n  \"name\": \"suicide_df\",\n  \"rows\": 8,\n  \"fields\": [\n    {\n      \"column\": \"year\",\n      \"properties\": {\n        \"dtype\": \"number\",\n        \"std\": 14887.334428043463,\n        \"min\": 10.338711176746193,\n        \"max\": 43776.0,\n        \"num_unique_values\": 8,\n        \"samples\": [\n          1998.5024671052631,\n          1999.0,\n          43776.0\n        ],\n        \"semantic_type\": \"\",\n        \"description\": \"\"\n      }\n    },\n    {\n      \"column\": \"suicides_no\",\n      \"properties\": {\n        \"dtype\": \"number\",\n        \"std\": 15566.182457895815,\n        \"min\": 0.0,\n        \"max\": 41520.0,\n        \"num_unique_values\": 8,\n        \"samples\": [\n          193.3153901734104,\n          14.0,\n          41520.0\n        ],\n        \"semantic_type\": \"\",\n        \"description\": \"\"\n      }\n    },\n    {\n      \"column\": \"population\",\n      \"properties\": {\n        \"dtype\": \"number\",\n        \"std\": 15178166.623357072,\n        \"min\": 259.0,\n        \"max\": 43805214.0,\n        \"num_unique_values\": 8,\n        \"samples\": [\n          1664091.1353742562,\n          380655.0,\n          38316.0\n        ],\n        \"semantic_type\": \"\",\n        \"description\": \"\"\n      }\n    }\n  ]\n}"
            }
          },
          "metadata": {},
          "execution_count": 63
        }
      ]
    },
    {
      "cell_type": "markdown",
      "source": [
        "# **Cleaning dataset**"
      ],
      "metadata": {
        "id": "ipVkiAYc3x3M"
      }
    },
    {
      "cell_type": "markdown",
      "source": [
        "Cleaning the dataset before analysis is a fundamental step to ensuring the quality, reliability, and integrity of results. It allows for a perfect analysis and helps in drawing accurate and meaningful conclusions.\n"
      ],
      "metadata": {
        "id": "UJkiZGkE3zrs"
      }
    },
    {
      "cell_type": "markdown",
      "source": [
        "### **Calculate null cells**\n"
      ],
      "metadata": {
        "id": "E71WgL9y4EUu"
      }
    },
    {
      "cell_type": "markdown",
      "source": [
        "I want to print the values that has null value."
      ],
      "metadata": {
        "id": "vEW738m08_EA"
      }
    },
    {
      "cell_type": "code",
      "source": [
        "#show the value that are nulls\n",
        "null_colls = [i for i in suicide_df.columns if suicide_df[i].isnull().any()]\n",
        "null_colls"
      ],
      "metadata": {
        "colab": {
          "base_uri": "https://localhost:8080/"
        },
        "id": "GJ8Wz5iwIds7",
        "outputId": "a1703758-b0dc-4b8f-b867-18ddc75ac89d"
      },
      "execution_count": 64,
      "outputs": [
        {
          "output_type": "execute_result",
          "data": {
            "text/plain": [
              "['suicides_no', 'population']"
            ]
          },
          "metadata": {},
          "execution_count": 64
        }
      ]
    },
    {
      "cell_type": "markdown",
      "source": [
        "Now I want to calculate the number of null cells."
      ],
      "metadata": {
        "id": "nFK8rtub4XZ-"
      }
    },
    {
      "cell_type": "code",
      "source": [
        "#calculate the number of null cells for each value\n",
        "suicide_df.isnull().sum()"
      ],
      "metadata": {
        "colab": {
          "base_uri": "https://localhost:8080/"
        },
        "id": "f1ryhspWHm5m",
        "outputId": "fa91288b-6708-40bd-980f-cf20c850dec1"
      },
      "execution_count": 65,
      "outputs": [
        {
          "output_type": "execute_result",
          "data": {
            "text/plain": [
              "country           0\n",
              "year              0\n",
              "sex               0\n",
              "age               0\n",
              "suicides_no    2256\n",
              "population     5460\n",
              "dtype: int64"
            ]
          },
          "metadata": {},
          "execution_count": 65
        }
      ]
    },
    {
      "cell_type": "markdown",
      "source": [
        "### **Cleaning base on *'suicides_no'***"
      ],
      "metadata": {
        "id": "JVeDwDff8vsB"
      }
    },
    {
      "cell_type": "markdown",
      "source": [
        "I remove the null cells:"
      ],
      "metadata": {
        "id": "zDuRBBRYDlsJ"
      }
    },
    {
      "cell_type": "code",
      "source": [
        "# removing rows containing null values of suicides number column\n",
        "suicide_df.dropna(subset=['suicides_no'], inplace=True)"
      ],
      "metadata": {
        "id": "NxY2-yYh4AK0"
      },
      "execution_count": 66,
      "outputs": []
    },
    {
      "cell_type": "markdown",
      "source": [
        "### **Cleaning base on *'population'***"
      ],
      "metadata": {
        "id": "KmJjA69a-JDN"
      }
    },
    {
      "cell_type": "markdown",
      "source": [
        "I remove the null cells:"
      ],
      "metadata": {
        "id": "kROMoGjuDqZR"
      }
    },
    {
      "cell_type": "code",
      "source": [
        "# removing rows containing null values of population column\n",
        "suicide_df.dropna(subset=['population'], inplace=True)"
      ],
      "metadata": {
        "id": "8JaYMBxW-DlH"
      },
      "execution_count": 67,
      "outputs": []
    },
    {
      "cell_type": "markdown",
      "source": [
        "Now I want to sure about null cells because I want a clean dataset for my analysis"
      ],
      "metadata": {
        "id": "nvzKap9_EKNe"
      }
    },
    {
      "cell_type": "code",
      "source": [
        "# getting information about each column counts and datatype in suicide dataframe\n",
        "suicide_df.info()"
      ],
      "metadata": {
        "colab": {
          "base_uri": "https://localhost:8080/"
        },
        "id": "FiLrUHcaEYUA",
        "outputId": "07484832-1e69-4d8e-df23-c3fe666a8117"
      },
      "execution_count": 68,
      "outputs": [
        {
          "output_type": "stream",
          "name": "stdout",
          "text": [
            "<class 'pandas.core.frame.DataFrame'>\n",
            "Index: 36060 entries, 24 to 43763\n",
            "Data columns (total 6 columns):\n",
            " #   Column       Non-Null Count  Dtype  \n",
            "---  ------       --------------  -----  \n",
            " 0   country      36060 non-null  object \n",
            " 1   year         36060 non-null  int64  \n",
            " 2   sex          36060 non-null  object \n",
            " 3   age          36060 non-null  object \n",
            " 4   suicides_no  36060 non-null  float64\n",
            " 5   population   36060 non-null  float64\n",
            "dtypes: float64(2), int64(1), object(3)\n",
            "memory usage: 1.9+ MB\n"
          ]
        }
      ]
    },
    {
      "cell_type": "code",
      "source": [
        "#calculate the number of null cells for each value\n",
        "suicide_df.isnull().sum()"
      ],
      "metadata": {
        "colab": {
          "base_uri": "https://localhost:8080/"
        },
        "id": "URCiE9-jEj7P",
        "outputId": "e4c5a608-f18e-4579-9b0c-93c506fe5729"
      },
      "execution_count": 69,
      "outputs": [
        {
          "output_type": "execute_result",
          "data": {
            "text/plain": [
              "country        0\n",
              "year           0\n",
              "sex            0\n",
              "age            0\n",
              "suicides_no    0\n",
              "population     0\n",
              "dtype: int64"
            ]
          },
          "metadata": {},
          "execution_count": 69
        }
      ]
    },
    {
      "cell_type": "markdown",
      "source": [
        "### **Converting value base on *'population'***"
      ],
      "metadata": {
        "id": "GsnAekxgFLl4"
      }
    },
    {
      "cell_type": "markdown",
      "source": [
        "Converting the value from string to integer for value of sex"
      ],
      "metadata": {
        "id": "BdnHopLeFnjE"
      }
    },
    {
      "cell_type": "code",
      "source": [
        "# replacing string values of sex with integer values\n",
        "suicide_df.sex.replace({'female':1, 'male':2}, inplace=True)"
      ],
      "metadata": {
        "id": "AAOkje5lFIHr"
      },
      "execution_count": 70,
      "outputs": []
    },
    {
      "cell_type": "markdown",
      "source": [
        "### **Converting value base on *'age'***"
      ],
      "metadata": {
        "id": "3FLYemtiGg8-"
      }
    },
    {
      "cell_type": "markdown",
      "source": [
        "Converting the value from string to integer for value of Age, first I print all unique values"
      ],
      "metadata": {
        "id": "NoPB732XGtyW"
      }
    },
    {
      "cell_type": "code",
      "source": [
        "# Print unique values of Country\n",
        "suicide_df[\"age\"].unique()"
      ],
      "metadata": {
        "colab": {
          "base_uri": "https://localhost:8080/"
        },
        "id": "X_a8Rx7lG6DY",
        "outputId": "2020a054-7fb7-48c7-8171-ad5a38a7304e"
      },
      "execution_count": 71,
      "outputs": [
        {
          "output_type": "execute_result",
          "data": {
            "text/plain": [
              "array(['15-24 years', '25-34 years', '35-54 years', '5-14 years',\n",
              "       '55-74 years', '75+ years'], dtype=object)"
            ]
          },
          "metadata": {},
          "execution_count": 71
        }
      ]
    },
    {
      "cell_type": "code",
      "source": [
        "# replacing string values of age with integer values\n",
        "suicide_df.age.replace({'5-14 years':1, '15-24 years':2, '25-34 years':3, '35-54 years':4, '55-74 years':5, '75+ years':6}, inplace=True)"
      ],
      "metadata": {
        "id": "HkNLS4ixGphF"
      },
      "execution_count": 72,
      "outputs": []
    },
    {
      "cell_type": "markdown",
      "source": [
        "# **Exploration on clean dataset**"
      ],
      "metadata": {
        "id": "oCL1-lppJoqT"
      }
    },
    {
      "cell_type": "markdown",
      "source": [
        "Now I explore the dataset again that I cleaned."
      ],
      "metadata": {
        "id": "JW22ujJwzX0R"
      }
    },
    {
      "cell_type": "code",
      "source": [
        "# returning the number of rows and columns in suicide dataset that cleaning\n",
        "suicide_df.shape"
      ],
      "metadata": {
        "colab": {
          "base_uri": "https://localhost:8080/"
        },
        "id": "blLGiUytzYoo",
        "outputId": "291302ac-c1f9-438a-c389-d4d1d531ab39"
      },
      "execution_count": 73,
      "outputs": [
        {
          "output_type": "execute_result",
          "data": {
            "text/plain": [
              "(36060, 6)"
            ]
          },
          "metadata": {},
          "execution_count": 73
        }
      ]
    },
    {
      "cell_type": "code",
      "source": [
        "# getting information about each column counts and datatype in suicide dataframe\n",
        "suicide_df.info()"
      ],
      "metadata": {
        "colab": {
          "base_uri": "https://localhost:8080/"
        },
        "id": "pRqvd-1yzrzs",
        "outputId": "f69c5855-77f6-4b1b-e0fd-89a42b9a03f7"
      },
      "execution_count": 74,
      "outputs": [
        {
          "output_type": "stream",
          "name": "stdout",
          "text": [
            "<class 'pandas.core.frame.DataFrame'>\n",
            "Index: 36060 entries, 24 to 43763\n",
            "Data columns (total 6 columns):\n",
            " #   Column       Non-Null Count  Dtype  \n",
            "---  ------       --------------  -----  \n",
            " 0   country      36060 non-null  object \n",
            " 1   year         36060 non-null  int64  \n",
            " 2   sex          36060 non-null  int64  \n",
            " 3   age          36060 non-null  int64  \n",
            " 4   suicides_no  36060 non-null  float64\n",
            " 5   population   36060 non-null  float64\n",
            "dtypes: float64(2), int64(3), object(1)\n",
            "memory usage: 1.9+ MB\n"
          ]
        }
      ]
    },
    {
      "cell_type": "markdown",
      "source": [
        "This is a pandas dataset method used to compute pair correlation of columns, excluding null values. <br> It computes the correlation matrix for the numerical columns in the DataFrame"
      ],
      "metadata": {
        "id": "Mr1SJYWBJyN3"
      }
    },
    {
      "cell_type": "code",
      "source": [
        "# finding correlation between different feaures\n",
        "suicide_df[['year', 'sex', 'age', 'suicides_no', 'population']].corr()"
      ],
      "metadata": {
        "colab": {
          "base_uri": "https://localhost:8080/",
          "height": 206
        },
        "id": "ooJPPST9EvKF",
        "outputId": "49cae26c-0a90-47c7-9563-bb956c279537"
      },
      "execution_count": 75,
      "outputs": [
        {
          "output_type": "execute_result",
          "data": {
            "text/plain": [
              "                     year           sex           age  suicides_no  population\n",
              "year         1.000000e+00 -1.205969e-16  2.837968e-18    -0.011356    0.012601\n",
              "sex         -1.205969e-16  1.000000e+00  1.478274e-18     0.136476   -0.010822\n",
              "age          2.837968e-18  1.478274e-18  1.000000e+00     0.075336   -0.069339\n",
              "suicides_no -1.135649e-02  1.364758e-01  7.533582e-02     1.000000    0.611406\n",
              "population   1.260078e-02 -1.082212e-02 -6.933916e-02     0.611406    1.000000"
            ],
            "text/html": [
              "\n",
              "  <div id=\"df-5f8ce300-a9cf-4849-859e-e84270c47af0\" class=\"colab-df-container\">\n",
              "    <div>\n",
              "<style scoped>\n",
              "    .dataframe tbody tr th:only-of-type {\n",
              "        vertical-align: middle;\n",
              "    }\n",
              "\n",
              "    .dataframe tbody tr th {\n",
              "        vertical-align: top;\n",
              "    }\n",
              "\n",
              "    .dataframe thead th {\n",
              "        text-align: right;\n",
              "    }\n",
              "</style>\n",
              "<table border=\"1\" class=\"dataframe\">\n",
              "  <thead>\n",
              "    <tr style=\"text-align: right;\">\n",
              "      <th></th>\n",
              "      <th>year</th>\n",
              "      <th>sex</th>\n",
              "      <th>age</th>\n",
              "      <th>suicides_no</th>\n",
              "      <th>population</th>\n",
              "    </tr>\n",
              "  </thead>\n",
              "  <tbody>\n",
              "    <tr>\n",
              "      <th>year</th>\n",
              "      <td>1.000000e+00</td>\n",
              "      <td>-1.205969e-16</td>\n",
              "      <td>2.837968e-18</td>\n",
              "      <td>-0.011356</td>\n",
              "      <td>0.012601</td>\n",
              "    </tr>\n",
              "    <tr>\n",
              "      <th>sex</th>\n",
              "      <td>-1.205969e-16</td>\n",
              "      <td>1.000000e+00</td>\n",
              "      <td>1.478274e-18</td>\n",
              "      <td>0.136476</td>\n",
              "      <td>-0.010822</td>\n",
              "    </tr>\n",
              "    <tr>\n",
              "      <th>age</th>\n",
              "      <td>2.837968e-18</td>\n",
              "      <td>1.478274e-18</td>\n",
              "      <td>1.000000e+00</td>\n",
              "      <td>0.075336</td>\n",
              "      <td>-0.069339</td>\n",
              "    </tr>\n",
              "    <tr>\n",
              "      <th>suicides_no</th>\n",
              "      <td>-1.135649e-02</td>\n",
              "      <td>1.364758e-01</td>\n",
              "      <td>7.533582e-02</td>\n",
              "      <td>1.000000</td>\n",
              "      <td>0.611406</td>\n",
              "    </tr>\n",
              "    <tr>\n",
              "      <th>population</th>\n",
              "      <td>1.260078e-02</td>\n",
              "      <td>-1.082212e-02</td>\n",
              "      <td>-6.933916e-02</td>\n",
              "      <td>0.611406</td>\n",
              "      <td>1.000000</td>\n",
              "    </tr>\n",
              "  </tbody>\n",
              "</table>\n",
              "</div>\n",
              "    <div class=\"colab-df-buttons\">\n",
              "\n",
              "  <div class=\"colab-df-container\">\n",
              "    <button class=\"colab-df-convert\" onclick=\"convertToInteractive('df-5f8ce300-a9cf-4849-859e-e84270c47af0')\"\n",
              "            title=\"Convert this dataframe to an interactive table.\"\n",
              "            style=\"display:none;\">\n",
              "\n",
              "  <svg xmlns=\"http://www.w3.org/2000/svg\" height=\"24px\" viewBox=\"0 -960 960 960\">\n",
              "    <path d=\"M120-120v-720h720v720H120Zm60-500h600v-160H180v160Zm220 220h160v-160H400v160Zm0 220h160v-160H400v160ZM180-400h160v-160H180v160Zm440 0h160v-160H620v160ZM180-180h160v-160H180v160Zm440 0h160v-160H620v160Z\"/>\n",
              "  </svg>\n",
              "    </button>\n",
              "\n",
              "  <style>\n",
              "    .colab-df-container {\n",
              "      display:flex;\n",
              "      gap: 12px;\n",
              "    }\n",
              "\n",
              "    .colab-df-convert {\n",
              "      background-color: #E8F0FE;\n",
              "      border: none;\n",
              "      border-radius: 50%;\n",
              "      cursor: pointer;\n",
              "      display: none;\n",
              "      fill: #1967D2;\n",
              "      height: 32px;\n",
              "      padding: 0 0 0 0;\n",
              "      width: 32px;\n",
              "    }\n",
              "\n",
              "    .colab-df-convert:hover {\n",
              "      background-color: #E2EBFA;\n",
              "      box-shadow: 0px 1px 2px rgba(60, 64, 67, 0.3), 0px 1px 3px 1px rgba(60, 64, 67, 0.15);\n",
              "      fill: #174EA6;\n",
              "    }\n",
              "\n",
              "    .colab-df-buttons div {\n",
              "      margin-bottom: 4px;\n",
              "    }\n",
              "\n",
              "    [theme=dark] .colab-df-convert {\n",
              "      background-color: #3B4455;\n",
              "      fill: #D2E3FC;\n",
              "    }\n",
              "\n",
              "    [theme=dark] .colab-df-convert:hover {\n",
              "      background-color: #434B5C;\n",
              "      box-shadow: 0px 1px 3px 1px rgba(0, 0, 0, 0.15);\n",
              "      filter: drop-shadow(0px 1px 2px rgba(0, 0, 0, 0.3));\n",
              "      fill: #FFFFFF;\n",
              "    }\n",
              "  </style>\n",
              "\n",
              "    <script>\n",
              "      const buttonEl =\n",
              "        document.querySelector('#df-5f8ce300-a9cf-4849-859e-e84270c47af0 button.colab-df-convert');\n",
              "      buttonEl.style.display =\n",
              "        google.colab.kernel.accessAllowed ? 'block' : 'none';\n",
              "\n",
              "      async function convertToInteractive(key) {\n",
              "        const element = document.querySelector('#df-5f8ce300-a9cf-4849-859e-e84270c47af0');\n",
              "        const dataTable =\n",
              "          await google.colab.kernel.invokeFunction('convertToInteractive',\n",
              "                                                    [key], {});\n",
              "        if (!dataTable) return;\n",
              "\n",
              "        const docLinkHtml = 'Like what you see? Visit the ' +\n",
              "          '<a target=\"_blank\" href=https://colab.research.google.com/notebooks/data_table.ipynb>data table notebook</a>'\n",
              "          + ' to learn more about interactive tables.';\n",
              "        element.innerHTML = '';\n",
              "        dataTable['output_type'] = 'display_data';\n",
              "        await google.colab.output.renderOutput(dataTable, element);\n",
              "        const docLink = document.createElement('div');\n",
              "        docLink.innerHTML = docLinkHtml;\n",
              "        element.appendChild(docLink);\n",
              "      }\n",
              "    </script>\n",
              "  </div>\n",
              "\n",
              "\n",
              "<div id=\"df-7f354d00-7f98-4784-8527-aedf5ce2c78f\">\n",
              "  <button class=\"colab-df-quickchart\" onclick=\"quickchart('df-7f354d00-7f98-4784-8527-aedf5ce2c78f')\"\n",
              "            title=\"Suggest charts\"\n",
              "            style=\"display:none;\">\n",
              "\n",
              "<svg xmlns=\"http://www.w3.org/2000/svg\" height=\"24px\"viewBox=\"0 0 24 24\"\n",
              "     width=\"24px\">\n",
              "    <g>\n",
              "        <path d=\"M19 3H5c-1.1 0-2 .9-2 2v14c0 1.1.9 2 2 2h14c1.1 0 2-.9 2-2V5c0-1.1-.9-2-2-2zM9 17H7v-7h2v7zm4 0h-2V7h2v10zm4 0h-2v-4h2v4z\"/>\n",
              "    </g>\n",
              "</svg>\n",
              "  </button>\n",
              "\n",
              "<style>\n",
              "  .colab-df-quickchart {\n",
              "      --bg-color: #E8F0FE;\n",
              "      --fill-color: #1967D2;\n",
              "      --hover-bg-color: #E2EBFA;\n",
              "      --hover-fill-color: #174EA6;\n",
              "      --disabled-fill-color: #AAA;\n",
              "      --disabled-bg-color: #DDD;\n",
              "  }\n",
              "\n",
              "  [theme=dark] .colab-df-quickchart {\n",
              "      --bg-color: #3B4455;\n",
              "      --fill-color: #D2E3FC;\n",
              "      --hover-bg-color: #434B5C;\n",
              "      --hover-fill-color: #FFFFFF;\n",
              "      --disabled-bg-color: #3B4455;\n",
              "      --disabled-fill-color: #666;\n",
              "  }\n",
              "\n",
              "  .colab-df-quickchart {\n",
              "    background-color: var(--bg-color);\n",
              "    border: none;\n",
              "    border-radius: 50%;\n",
              "    cursor: pointer;\n",
              "    display: none;\n",
              "    fill: var(--fill-color);\n",
              "    height: 32px;\n",
              "    padding: 0;\n",
              "    width: 32px;\n",
              "  }\n",
              "\n",
              "  .colab-df-quickchart:hover {\n",
              "    background-color: var(--hover-bg-color);\n",
              "    box-shadow: 0 1px 2px rgba(60, 64, 67, 0.3), 0 1px 3px 1px rgba(60, 64, 67, 0.15);\n",
              "    fill: var(--button-hover-fill-color);\n",
              "  }\n",
              "\n",
              "  .colab-df-quickchart-complete:disabled,\n",
              "  .colab-df-quickchart-complete:disabled:hover {\n",
              "    background-color: var(--disabled-bg-color);\n",
              "    fill: var(--disabled-fill-color);\n",
              "    box-shadow: none;\n",
              "  }\n",
              "\n",
              "  .colab-df-spinner {\n",
              "    border: 2px solid var(--fill-color);\n",
              "    border-color: transparent;\n",
              "    border-bottom-color: var(--fill-color);\n",
              "    animation:\n",
              "      spin 1s steps(1) infinite;\n",
              "  }\n",
              "\n",
              "  @keyframes spin {\n",
              "    0% {\n",
              "      border-color: transparent;\n",
              "      border-bottom-color: var(--fill-color);\n",
              "      border-left-color: var(--fill-color);\n",
              "    }\n",
              "    20% {\n",
              "      border-color: transparent;\n",
              "      border-left-color: var(--fill-color);\n",
              "      border-top-color: var(--fill-color);\n",
              "    }\n",
              "    30% {\n",
              "      border-color: transparent;\n",
              "      border-left-color: var(--fill-color);\n",
              "      border-top-color: var(--fill-color);\n",
              "      border-right-color: var(--fill-color);\n",
              "    }\n",
              "    40% {\n",
              "      border-color: transparent;\n",
              "      border-right-color: var(--fill-color);\n",
              "      border-top-color: var(--fill-color);\n",
              "    }\n",
              "    60% {\n",
              "      border-color: transparent;\n",
              "      border-right-color: var(--fill-color);\n",
              "    }\n",
              "    80% {\n",
              "      border-color: transparent;\n",
              "      border-right-color: var(--fill-color);\n",
              "      border-bottom-color: var(--fill-color);\n",
              "    }\n",
              "    90% {\n",
              "      border-color: transparent;\n",
              "      border-bottom-color: var(--fill-color);\n",
              "    }\n",
              "  }\n",
              "</style>\n",
              "\n",
              "  <script>\n",
              "    async function quickchart(key) {\n",
              "      const quickchartButtonEl =\n",
              "        document.querySelector('#' + key + ' button');\n",
              "      quickchartButtonEl.disabled = true;  // To prevent multiple clicks.\n",
              "      quickchartButtonEl.classList.add('colab-df-spinner');\n",
              "      try {\n",
              "        const charts = await google.colab.kernel.invokeFunction(\n",
              "            'suggestCharts', [key], {});\n",
              "      } catch (error) {\n",
              "        console.error('Error during call to suggestCharts:', error);\n",
              "      }\n",
              "      quickchartButtonEl.classList.remove('colab-df-spinner');\n",
              "      quickchartButtonEl.classList.add('colab-df-quickchart-complete');\n",
              "    }\n",
              "    (() => {\n",
              "      let quickchartButtonEl =\n",
              "        document.querySelector('#df-7f354d00-7f98-4784-8527-aedf5ce2c78f button');\n",
              "      quickchartButtonEl.style.display =\n",
              "        google.colab.kernel.accessAllowed ? 'block' : 'none';\n",
              "    })();\n",
              "  </script>\n",
              "</div>\n",
              "    </div>\n",
              "  </div>\n"
            ],
            "application/vnd.google.colaboratory.intrinsic+json": {
              "type": "dataframe",
              "summary": "{\n  \"name\": \"suicide_df[['year', 'sex', 'age', 'suicides_no', 'population']]\",\n  \"rows\": 5,\n  \"fields\": [\n    {\n      \"column\": \"year\",\n      \"properties\": {\n        \"dtype\": \"number\",\n        \"std\": 0.4471548180304188,\n        \"min\": -0.011356492181410915,\n        \"max\": 1.0,\n        \"num_unique_values\": 5,\n        \"samples\": [\n          -1.2059689731339837e-16,\n          0.012600779046450034,\n          2.8379677088380027e-18\n        ],\n        \"semantic_type\": \"\",\n        \"description\": \"\"\n      }\n    },\n    {\n      \"column\": \"sex\",\n      \"properties\": {\n        \"dtype\": \"number\",\n        \"std\": 0.4374138557978538,\n        \"min\": -0.010822119007148667,\n        \"max\": 1.0,\n        \"num_unique_values\": 5,\n        \"samples\": [\n          1.0,\n          -0.010822119007148667,\n          1.4782740751931546e-18\n        ],\n        \"semantic_type\": \"\",\n        \"description\": \"\"\n      }\n    },\n    {\n      \"column\": \"age\",\n      \"properties\": {\n        \"dtype\": \"number\",\n        \"std\": 0.4494656694131382,\n        \"min\": -0.0693391634558391,\n        \"max\": 1.0,\n        \"num_unique_values\": 5,\n        \"samples\": [\n          1.4782740751931546e-18,\n          -0.0693391634558391,\n          1.0\n        ],\n        \"semantic_type\": \"\",\n        \"description\": \"\"\n      }\n    },\n    {\n      \"column\": \"suicides_no\",\n      \"properties\": {\n        \"dtype\": \"number\",\n        \"std\": 0.4306040227032825,\n        \"min\": -0.011356492181410915,\n        \"max\": 1.0,\n        \"num_unique_values\": 5,\n        \"samples\": [\n          0.13647577384867413,\n          0.6114060718995676,\n          0.07533581540859939\n        ],\n        \"semantic_type\": \"\",\n        \"description\": \"\"\n      }\n    },\n    {\n      \"column\": \"population\",\n      \"properties\": {\n        \"dtype\": \"number\",\n        \"std\": 0.47492351341343886,\n        \"min\": -0.0693391634558391,\n        \"max\": 1.0,\n        \"num_unique_values\": 5,\n        \"samples\": [\n          -0.010822119007148667,\n          1.0,\n          -0.0693391634558391\n        ],\n        \"semantic_type\": \"\",\n        \"description\": \"\"\n      }\n    }\n  ]\n}"
            }
          },
          "metadata": {},
          "execution_count": 75
        }
      ]
    },
    {
      "cell_type": "markdown",
      "source": [
        "###**Explore about *'suicide number***"
      ],
      "metadata": {
        "id": "uQ5BLmOV0a70"
      }
    },
    {
      "cell_type": "markdown",
      "source": [
        "Here I explore the number of suiciders base on different countries"
      ],
      "metadata": {
        "id": "mtmGkRNY65pB"
      }
    },
    {
      "cell_type": "code",
      "source": [
        "# number of suicide by country\n",
        "suicider_by_country = suicide_df.groupby('country')['suicides_no'].sum()\n",
        "suicider_by_country.sort_values(ascending=False)"
      ],
      "metadata": {
        "colab": {
          "base_uri": "https://localhost:8080/"
        },
        "id": "Lz3CnmYvIdnz",
        "outputId": "9d3f21da-3621-4c19-80e3-f695f0aa1328"
      },
      "execution_count": 76,
      "outputs": [
        {
          "output_type": "execute_result",
          "data": {
            "text/plain": [
              "country\n",
              "Russian Federation          1500992.0\n",
              "United States of America    1201401.0\n",
              "Japan                        937614.0\n",
              "France                       395500.0\n",
              "Ukraine                      365170.0\n",
              "                              ...    \n",
              "Mayotte                           6.0\n",
              "Sao Tome and Principe             4.0\n",
              "Dominica                          4.0\n",
              "Cayman Islands                    0.0\n",
              "Saint Kitts and Nevis             0.0\n",
              "Name: suicides_no, Length: 118, dtype: float64"
            ]
          },
          "metadata": {},
          "execution_count": 76
        }
      ]
    },
    {
      "cell_type": "code",
      "source": [
        "# top 5 countries with highest number of suicides\n",
        "top_5_suicide_by_country = suicider_by_country.sort_values(ascending=False).head()\n",
        "\n",
        "top_5_suicide_by_country"
      ],
      "metadata": {
        "colab": {
          "base_uri": "https://localhost:8080/"
        },
        "id": "yS377WdP0Bl2",
        "outputId": "a600887b-8f01-40f8-f3bd-8e0560ee09da"
      },
      "execution_count": 77,
      "outputs": [
        {
          "output_type": "execute_result",
          "data": {
            "text/plain": [
              "country\n",
              "Russian Federation          1500992.0\n",
              "United States of America    1201401.0\n",
              "Japan                        937614.0\n",
              "France                       395500.0\n",
              "Ukraine                      365170.0\n",
              "Name: suicides_no, dtype: float64"
            ]
          },
          "metadata": {},
          "execution_count": 77
        }
      ]
    },
    {
      "cell_type": "code",
      "source": [
        "# last 5 countries with lowest number of suicides\n",
        "last_5_suicide_by_country = suicider_by_country.sort_values(ascending=False).tail()\n",
        "\n",
        "last_5_suicide_by_country"
      ],
      "metadata": {
        "colab": {
          "base_uri": "https://localhost:8080/"
        },
        "id": "S1SPA-cQ0IKH",
        "outputId": "38958e59-0ceb-4bdb-f1db-37d38c8786ea"
      },
      "execution_count": 78,
      "outputs": [
        {
          "output_type": "execute_result",
          "data": {
            "text/plain": [
              "country\n",
              "Mayotte                  6.0\n",
              "Sao Tome and Principe    4.0\n",
              "Dominica                 4.0\n",
              "Cayman Islands           0.0\n",
              "Saint Kitts and Nevis    0.0\n",
              "Name: suicides_no, dtype: float64"
            ]
          },
          "metadata": {},
          "execution_count": 78
        }
      ]
    },
    {
      "cell_type": "markdown",
      "source": [
        "Number of suiciders ase on their genders, in previous codes I convert the values of female to 1 and male to 2. **[1: Female, 2: Male]**"
      ],
      "metadata": {
        "id": "gj9Z2Vb-GrGH"
      }
    },
    {
      "cell_type": "code",
      "source": [
        "# number of suiciders by gender\n",
        "suicider_by_sex = suicide_df.groupby('sex')['suicides_no'].sum()\n",
        "suicider_by_sex"
      ],
      "metadata": {
        "colab": {
          "base_uri": "https://localhost:8080/"
        },
        "id": "koIyiC74Gpji",
        "outputId": "c4561401-d90a-4cff-a29c-47e6efd59e9f"
      },
      "execution_count": 79,
      "outputs": [
        {
          "output_type": "execute_result",
          "data": {
            "text/plain": [
              "sex\n",
              "1    1894294.0\n",
              "2    6104173.0\n",
              "Name: suicides_no, dtype: float64"
            ]
          },
          "metadata": {},
          "execution_count": 79
        }
      ]
    },
    {
      "cell_type": "markdown",
      "source": [
        "The ratio of suicider base on sex that calculates how many times the number of suiciders for the sex represented by index 2 (Male) is compared to the number of suiciders for the sex represented by index 1 (Female)."
      ],
      "metadata": {
        "id": "r9kIdgphIu1N"
      }
    },
    {
      "cell_type": "code",
      "source": [
        "# ratio number of suiciders by gender\n",
        "suicider_by_sex[2]/ suicider_by_sex[1]"
      ],
      "metadata": {
        "colab": {
          "base_uri": "https://localhost:8080/"
        },
        "id": "paLUV5H-IwMU",
        "outputId": "2217a874-d63c-45ff-c0fc-6149a91d4818"
      },
      "execution_count": 80,
      "outputs": [
        {
          "output_type": "execute_result",
          "data": {
            "text/plain": [
              "3.222400007601777"
            ]
          },
          "metadata": {},
          "execution_count": 80
        }
      ]
    },
    {
      "cell_type": "markdown",
      "source": [
        "Base on above code we can see the numbers of suicider of Male is 3times more than Female."
      ],
      "metadata": {
        "id": "yf8kkyTqI0X5"
      }
    },
    {
      "cell_type": "markdown",
      "source": [
        "\n",
        "\n",
        "---\n",
        "Numbers of suiciders base on their age, in previous codes I convert the values the column of age base on this: <br> **'5-14 years':1, '15-24 years':2, '25-34 years':3, '35-54 years':4, '55-74 years':5, '75+ years':6**\n"
      ],
      "metadata": {
        "id": "IxJPXRE7J5Bs"
      }
    },
    {
      "cell_type": "code",
      "source": [
        "# number of suiciders by age range\n",
        "suicider_by_age = suicide_df.groupby('age')['suicides_no'].sum()\n",
        "suicider_by_age"
      ],
      "metadata": {
        "colab": {
          "base_uri": "https://localhost:8080/"
        },
        "id": "KWuNCMFBJzpQ",
        "outputId": "57cd1afa-4d7d-4959-cbc4-5802f5036c86"
      },
      "execution_count": 81,
      "outputs": [
        {
          "output_type": "execute_result",
          "data": {
            "text/plain": [
              "age\n",
              "1      62320.0\n",
              "2     975700.0\n",
              "3    1360780.0\n",
              "4    2887740.0\n",
              "5    1955150.0\n",
              "6     756777.0\n",
              "Name: suicides_no, dtype: float64"
            ]
          },
          "metadata": {},
          "execution_count": 81
        }
      ]
    },
    {
      "cell_type": "markdown",
      "source": [
        "###**Explore about *'country***"
      ],
      "metadata": {
        "id": "1n6sWvyjXjOm"
      }
    },
    {
      "cell_type": "markdown",
      "source": [
        "I want to explore about data that is related to countries so first I want to print all name of countries that are in this dataset."
      ],
      "metadata": {
        "id": "gWPS6tyCXvun"
      }
    },
    {
      "cell_type": "code",
      "source": [
        "# Print unique values of Country\n",
        "suicide_df[\"country\"].unique()"
      ],
      "metadata": {
        "colab": {
          "base_uri": "https://localhost:8080/"
        },
        "id": "7_pr1p_8XteW",
        "outputId": "417fd17a-0a7e-40a3-a47b-4ccecc1773b9"
      },
      "execution_count": 82,
      "outputs": [
        {
          "output_type": "execute_result",
          "data": {
            "text/plain": [
              "array(['Albania', 'Antigua and Barbuda', 'Argentina', 'Armenia', 'Aruba',\n",
              "       'Australia', 'Austria', 'Azerbaijan', 'Bahamas', 'Bahrain',\n",
              "       'Barbados', 'Belarus', 'Belgium', 'Belize', 'Bermuda',\n",
              "       'Bosnia and Herzegovina', 'Brazil', 'Brunei Darussalam',\n",
              "       'Bulgaria', 'Cabo Verde', 'Canada', 'Cayman Islands', 'Chile',\n",
              "       'Colombia', 'Costa Rica', 'Croatia', 'Cuba', 'Cyprus',\n",
              "       'Czech Republic', 'Denmark', 'Dominica', 'Ecuador', 'Egypt',\n",
              "       'El Salvador', 'Estonia', 'Fiji', 'Finland', 'France',\n",
              "       'French Guiana', 'Georgia', 'Germany', 'Greece', 'Grenada',\n",
              "       'Guadeloupe', 'Guatemala', 'Guyana', 'Hong Kong SAR', 'Hungary',\n",
              "       'Iceland', 'Iran (Islamic Rep of)', 'Ireland', 'Israel', 'Italy',\n",
              "       'Jamaica', 'Japan', 'Kazakhstan', 'Kiribati', 'Kuwait',\n",
              "       'Kyrgyzstan', 'Latvia', 'Lithuania', 'Luxembourg', 'Macau',\n",
              "       'Maldives', 'Malta', 'Martinique', 'Mauritius', 'Mayotte',\n",
              "       'Mexico', 'Mongolia', 'Montenegro', 'Netherlands', 'New Zealand',\n",
              "       'Nicaragua', 'Norway', 'Oman', 'Panama', 'Paraguay', 'Philippines',\n",
              "       'Poland', 'Portugal', 'Puerto Rico', 'Qatar', 'Republic of Korea',\n",
              "       'Republic of Moldova', 'Reunion', 'Rodrigues', 'Romania',\n",
              "       'Russian Federation', 'Saint Kitts and Nevis', 'Saint Lucia',\n",
              "       'Saint Vincent and Grenadines', 'San Marino',\n",
              "       'Sao Tome and Principe', 'Serbia', 'Seychelles', 'Singapore',\n",
              "       'Slovakia', 'Slovenia', 'South Africa', 'Spain', 'Sri Lanka',\n",
              "       'Suriname', 'Sweden', 'Switzerland', 'TFYR Macedonia', 'Thailand',\n",
              "       'Trinidad and Tobago', 'Turkey', 'Turkmenistan', 'Ukraine',\n",
              "       'United Arab Emirates', 'United Kingdom',\n",
              "       'United States of America', 'Uruguay', 'Uzbekistan',\n",
              "       'Venezuela (Bolivarian Republic of)', 'Virgin Islands (USA)'],\n",
              "      dtype=object)"
            ]
          },
          "metadata": {},
          "execution_count": 82
        }
      ]
    },
    {
      "cell_type": "markdown",
      "source": [
        "Number of suicider in **Switzerland** ."
      ],
      "metadata": {
        "id": "KfIdGb64ZfST"
      }
    },
    {
      "cell_type": "code",
      "source": [
        "# number of suiciders in Switzerland\n",
        "suicide_df[suicide_df['country'] == 'Switzerland']['suicides_no'].sum()"
      ],
      "metadata": {
        "colab": {
          "base_uri": "https://localhost:8080/"
        },
        "id": "bNDdIEilZWho",
        "outputId": "37cb9522-ca7e-4184-ef71-2417e876180d"
      },
      "execution_count": 86,
      "outputs": [
        {
          "output_type": "execute_result",
          "data": {
            "text/plain": [
              "26217.0"
            ]
          },
          "metadata": {},
          "execution_count": 86
        }
      ]
    },
    {
      "cell_type": "markdown",
      "source": [
        "Now I want to print how many of Switzerland suiciders are **Female** or **Male** ."
      ],
      "metadata": {
        "id": "0XgDzU2aZvTA"
      }
    },
    {
      "cell_type": "code",
      "source": [
        "# number of suiciders by gender in Switzerland\n",
        "suicide_df.loc[suicide_df['country'] == \"Switzerland\"].groupby('sex')['suicides_no'].sum()"
      ],
      "metadata": {
        "colab": {
          "base_uri": "https://localhost:8080/"
        },
        "id": "CD4f5GcMZrdV",
        "outputId": "a10dfe97-6e33-4c25-c320-132b92bc8b00"
      },
      "execution_count": 84,
      "outputs": [
        {
          "output_type": "execute_result",
          "data": {
            "text/plain": [
              "sex\n",
              "1     7739.0\n",
              "2    18478.0\n",
              "Name: suicides_no, dtype: float64"
            ]
          },
          "metadata": {},
          "execution_count": 84
        }
      ]
    },
    {
      "cell_type": "markdown",
      "source": [
        "Numbers of Switzerland suiciders base on their age: <br> **'5-14 years':1, '15-24 years':2, '25-34 years':3, '35-54 years':4, '55-74 years':5, '75+ years':6**"
      ],
      "metadata": {
        "id": "ErMSHR6Mbi11"
      }
    },
    {
      "cell_type": "code",
      "source": [
        "# number of suiciders by age in Switzerland\n",
        "suicide_df.loc[suicide_df['country'] == \"Switzerland\"].groupby('age')['suicides_no'].sum()"
      ],
      "metadata": {
        "colab": {
          "base_uri": "https://localhost:8080/"
        },
        "id": "UPuY5suubQvj",
        "outputId": "2440fcea-0094-408e-87ee-cbf61d394eec"
      },
      "execution_count": 87,
      "outputs": [
        {
          "output_type": "execute_result",
          "data": {
            "text/plain": [
              "age\n",
              "1      70.0\n",
              "2    2015.0\n",
              "3    2867.0\n",
              "4    8846.0\n",
              "5    7707.0\n",
              "6    4712.0\n",
              "Name: suicides_no, dtype: float64"
            ]
          },
          "metadata": {},
          "execution_count": 87
        }
      ]
    },
    {
      "cell_type": "markdown",
      "source": [
        "Numbers of Switzerland suiciders base on different **years**."
      ],
      "metadata": {
        "id": "5bSrF-RPdW1e"
      }
    },
    {
      "cell_type": "code",
      "source": [
        "# number of suiciders of Switzerland in different years\n",
        "suicide_df.loc[suicide_df['country'] == \"Switzerland\"].groupby('year')['suicides_no'].sum()"
      ],
      "metadata": {
        "colab": {
          "base_uri": "https://localhost:8080/"
        },
        "id": "PweP2TCWdfqm",
        "outputId": "60a49690-79b5-40cd-fb52-4f55822ff6df"
      },
      "execution_count": 89,
      "outputs": [
        {
          "output_type": "execute_result",
          "data": {
            "text/plain": [
              "year\n",
              "1995    1419.0\n",
              "1996    1432.0\n",
              "1997    1341.0\n",
              "1998    1371.0\n",
              "1999    1296.0\n",
              "2000    1380.0\n",
              "2001    1338.0\n",
              "2002    1446.0\n",
              "2003    1269.0\n",
              "2004    1284.0\n",
              "2005    1299.0\n",
              "2006    1309.0\n",
              "2007    1360.0\n",
              "2008    1314.0\n",
              "2009    1105.0\n",
              "2010    1006.0\n",
              "2011    1034.0\n",
              "2012    1038.0\n",
              "2013    1071.0\n",
              "2014    1032.0\n",
              "2015    1073.0\n",
              "Name: suicides_no, dtype: float64"
            ]
          },
          "metadata": {},
          "execution_count": 89
        }
      ]
    },
    {
      "cell_type": "markdown",
      "source": [
        "###**Explore about *'woman & man'***"
      ],
      "metadata": {
        "id": "yFoIGnQcgJpB"
      }
    },
    {
      "cell_type": "markdown",
      "source": [
        "Numbers of suiciders of woman in different countries."
      ],
      "metadata": {
        "id": "0bkmmzHYgNe_"
      }
    },
    {
      "cell_type": "code",
      "source": [
        "# suicide among women\n",
        "suicide_df.loc[suicide_df['sex'] == 1].groupby('country')['suicides_no'].sum().sort_values(ascending=False)"
      ],
      "metadata": {
        "colab": {
          "base_uri": "https://localhost:8080/"
        },
        "id": "jNNkzQUvf-_D",
        "outputId": "064e2f4d-00ed-4454-ea4d-91395c29705a"
      },
      "execution_count": 90,
      "outputs": [
        {
          "output_type": "execute_result",
          "data": {
            "text/plain": [
              "country\n",
              "Japan                       298333.0\n",
              "Russian Federation          279518.0\n",
              "United States of America    253609.0\n",
              "France                      108619.0\n",
              "Republic of Korea            82615.0\n",
              "                              ...   \n",
              "Saint Kitts and Nevis            0.0\n",
              "Cayman Islands                   0.0\n",
              "Dominica                         0.0\n",
              "Mayotte                          0.0\n",
              "Oman                             0.0\n",
              "Name: suicides_no, Length: 118, dtype: float64"
            ]
          },
          "metadata": {},
          "execution_count": 90
        }
      ]
    },
    {
      "cell_type": "markdown",
      "source": [
        "Numbers of woman and **woman** that suicide in Iran.\n"
      ],
      "metadata": {
        "id": "10iB7th0j59J"
      }
    },
    {
      "cell_type": "code",
      "source": [
        "# number of woman suiciders in Iran\n",
        "suicide_df.loc[(suicide_df['country'] == 'Iran (Islamic Rep of)') & (suicide_df['sex'] == 1)]['suicides_no'].sum()"
      ],
      "metadata": {
        "colab": {
          "base_uri": "https://localhost:8080/"
        },
        "id": "IHVbR4Qnj_hl",
        "outputId": "ab73ebbb-55b1-4946-b867-fd414fe95bf9"
      },
      "execution_count": 96,
      "outputs": [
        {
          "output_type": "execute_result",
          "data": {
            "text/plain": [
              "2322.0"
            ]
          },
          "metadata": {},
          "execution_count": 96
        }
      ]
    },
    {
      "cell_type": "markdown",
      "source": [
        "Numbers of suiciders of man in different countries."
      ],
      "metadata": {
        "id": "inUEvD2Pgq1J"
      }
    },
    {
      "cell_type": "code",
      "source": [
        "# suicide among me\n",
        "suicide_df.loc[suicide_df['sex'] == 2].groupby('country')['suicides_no'].sum().sort_values(ascending=False)"
      ],
      "metadata": {
        "colab": {
          "base_uri": "https://localhost:8080/"
        },
        "id": "QJwzkFaTgcQY",
        "outputId": "ecceef42-7d10-4e8e-963e-bae626bb0083"
      },
      "execution_count": 91,
      "outputs": [
        {
          "output_type": "execute_result",
          "data": {
            "text/plain": [
              "country\n",
              "Russian Federation          1221474.0\n",
              "United States of America     947792.0\n",
              "Japan                        639281.0\n",
              "Ukraine                      293561.0\n",
              "France                       286881.0\n",
              "                              ...    \n",
              "Bermuda                           5.0\n",
              "Dominica                          4.0\n",
              "Sao Tome and Principe             3.0\n",
              "Cayman Islands                    0.0\n",
              "Saint Kitts and Nevis             0.0\n",
              "Name: suicides_no, Length: 118, dtype: float64"
            ]
          },
          "metadata": {},
          "execution_count": 91
        }
      ]
    },
    {
      "cell_type": "markdown",
      "source": [
        "Numbers of woman and **man** that suicide in Iran.\n"
      ],
      "metadata": {
        "id": "Zk-Wo17QlrOr"
      }
    },
    {
      "cell_type": "code",
      "source": [
        "# number of man suiciders in Iran\n",
        "suicide_df.loc[(suicide_df['country'] == 'Iran (Islamic Rep of)') & (suicide_df['sex'] == 2)]['suicides_no'].sum()"
      ],
      "metadata": {
        "colab": {
          "base_uri": "https://localhost:8080/"
        },
        "id": "YhQHaX2flhk1",
        "outputId": "d324c871-f785-4893-810a-e339f9091054"
      },
      "execution_count": 97,
      "outputs": [
        {
          "output_type": "execute_result",
          "data": {
            "text/plain": [
              "4977.0"
            ]
          },
          "metadata": {},
          "execution_count": 97
        }
      ]
    },
    {
      "cell_type": "markdown",
      "source": [
        "#**Visualization**"
      ],
      "metadata": {
        "id": "LSTwjDnLmOo_"
      }
    },
    {
      "cell_type": "markdown",
      "source": [
        "The graph of correlations of values."
      ],
      "metadata": {
        "id": "5HmVFuWtm7qN"
      }
    },
    {
      "cell_type": "code",
      "source": [
        "# correlation graph\n",
        "plt.figure(figsize=(6,5))\n",
        "sns.heatmap(suicide_df[['year', 'sex', 'age', 'suicides_no', 'population']].corr(), annot=True)\n",
        "plt.title('correlation', fontweight='bold', fontsize=14)\n",
        "plt.show()"
      ],
      "metadata": {
        "colab": {
          "base_uri": "https://localhost:8080/",
          "height": 535
        },
        "id": "X3K1W2dvmWS5",
        "outputId": "91aa7ad3-88cf-49b6-9347-8f07b7f0d476"
      },
      "execution_count": 100,
      "outputs": [
        {
          "output_type": "display_data",
          "data": {
            "text/plain": [
              "<Figure size 600x500 with 2 Axes>"
            ],
            "image/png": "[encoded data removed]"
          },
          "metadata": {}
        }
      ]
    },
    {
      "cell_type": "markdown",
      "source": [
        "The percentages of each gender that are in the dataset."
      ],
      "metadata": {
        "id": "UDcEtg8snFbe"
      }
    },
    {
      "cell_type": "code",
      "source": [
        "# Suiciders by sex\n",
        "labels = ['Female', 'Male']\n",
        "plt.figure(figsize=(10,6))\n",
        "plt.pie(suicider_by_sex, labels=labels, autopct='%.2f%%', startangle=90, shadow=False)\n",
        "plt.title('Percentage of suiciders by sex', fontweight='bold', fontsize=14)\n",
        "plt.legend()\n",
        "plt.show()"
      ],
      "metadata": {
        "colab": {
          "base_uri": "https://localhost:8080/",
          "height": 522
        },
        "id": "6AsBz_8Sm5IX",
        "outputId": "3e811928-05e4-482f-a5ef-f62503400c02"
      },
      "execution_count": 106,
      "outputs": [
        {
          "output_type": "display_data",
          "data": {
            "text/plain": [
              "<Figure size 1000x600 with 1 Axes>"
            ],
            "image/png": "[encoded data removed]"
          },
          "metadata": {}
        }
      ]
    },
    {
      "cell_type": "code",
      "source": [
        " # top 5 countries\n",
        " plt.figure(figsize=(10,6))\n",
        " plt.pie(top_5_suicide_by_country,labels= labels, autopct='%.2f%%', startangle=90)\n",
        " plt.title('Top 5 countries', fontweight='bold', fontsize=14)\n",
        " plt.legend()\n",
        " plt.legend(loc=\"upper left\")\n",
        " plt.show()"
      ],
      "metadata": {
        "colab": {
          "base_uri": "https://localhost:8080/",
          "height": 522
        },
        "id": "mcMn07m6oHmS",
        "outputId": "e7733708-5878-4420-e56f-925d9cf5872c"
      },
      "execution_count": 105,
      "outputs": [
        {
          "output_type": "display_data",
          "data": {
            "text/plain": [
              "<Figure size 1000x600 with 1 Axes>"
            ],
            "image/png": "[encoded data removed]"
          },
          "metadata": {}
        }
      ]
    },
    {
      "cell_type": "code",
      "source": [
        "# Numbers of suicider during the years\n",
        "suicide_df.groupby('year')['suicides_no'].sum().plot(kind='line', figsize=(8, 4))\n",
        "plt.title('number of suicides during years', fontweight='bold', fontsize=14)"
      ],
      "metadata": {
        "colab": {
          "base_uri": "https://localhost:8080/",
          "height": 506
        },
        "id": "S_mIWi8Qo1rm",
        "outputId": "a8f41eda-4475-4310-b93b-8fc7946c6909"
      },
      "execution_count": 109,
      "outputs": [
        {
          "output_type": "execute_result",
          "data": {
            "text/plain": [
              "Text(0.5, 1.0, 'number of suicides during years')"
            ]
          },
          "metadata": {},
          "execution_count": 109
        },
        {
          "output_type": "display_data",
          "data": {
            "text/plain": [
              "<Figure size 1000x500 with 1 Axes>"
            ],
            "image/png": "[encoded data removed]"
          },
          "metadata": {}
        }
      ]
    },
    {
      "cell_type": "code",
      "source": [
        "# number of suiciders by age range\n",
        "suicider_by_age.plot(kind='bar', color='green', figsize=(8, 4))\n",
        "plt.title('number of suicides by age', fontweight='bold', fontsize=14)"
      ],
      "metadata": {
        "colab": {
          "base_uri": "https://localhost:8080/",
          "height": 501
        },
        "id": "Bt0EQzUeo22t",
        "outputId": "6b15af9c-89e9-45bf-e45a-72bd53125fa1"
      },
      "execution_count": 117,
      "outputs": [
        {
          "output_type": "execute_result",
          "data": {
            "text/plain": [
              "Text(0.5, 1.0, 'number of suicides by age')"
            ]
          },
          "metadata": {},
          "execution_count": 117
        },
        {
          "output_type": "display_data",
          "data": {
            "text/plain": [
              "<Figure size 1000x500 with 1 Axes>"
            ],
            "image/png": "[encoded data removed]"
          },
          "metadata": {}
        }
      ]
    },
    {
      "cell_type": "code",
      "source": [
        "# number of suiciders of Switzerland in different years\n",
        "suicide_df.loc[suicide_df['country'] == \"Switzerland\"].groupby('year')['suicides_no'].sum().plot(kind='line', figsize=(8, 4))\n",
        "plt.title('number of suicides during years in Switzerland', fontweight='bold', fontsize=14)"
      ],
      "metadata": {
        "colab": {
          "base_uri": "https://localhost:8080/",
          "height": 429
        },
        "id": "SAEPWl4Qrah-",
        "outputId": "42bf5559-5abf-40a9-fb0b-6020f57caf58"
      },
      "execution_count": 120,
      "outputs": [
        {
          "output_type": "execute_result",
          "data": {
            "text/plain": [
              "Text(0.5, 1.0, 'number of suicides during years in Switzerland')"
            ]
          },
          "metadata": {},
          "execution_count": 120
        },
        {
          "output_type": "display_data",
          "data": {
            "text/plain": [
              "<Figure size 800x400 with 1 Axes>"
            ],
            "image/png": "[encoded data removed]"
          },
          "metadata": {}
        }
      ]
    },
    {
      "cell_type": "code",
      "source": [
        "# suiciders of women and men in one graph\n",
        "suicide_df.loc[suicide_df['sex'] == 1].groupby('year')['suicides_no'].sum().plot(kind='line', figsize=(8, 4),  label='Female')\n",
        "suicide_df.loc[suicide_df['sex'] == 2].groupby('year')['suicides_no'].sum().plot(kind='line', label='Male')\n",
        "plt.title('number of suicides by gender during years', fontweight='bold', fontsize=14)\n",
        "plt.ylabel('Number of suicides')\n",
        "plt.legend()\n",
        "plt.show()"
      ],
      "metadata": {
        "colab": {
          "base_uri": "https://localhost:8080/",
          "height": 411
        },
        "id": "jWoWfCPJsvnM",
        "outputId": "503f9969-e56a-4670-aebc-14b181ad75a6"
      },
      "execution_count": 122,
      "outputs": [
        {
          "output_type": "display_data",
          "data": {
            "text/plain": [
              "<Figure size 800x400 with 1 Axes>"
            ],
            "image/png": "[encoded data removed]"
          },
          "metadata": {}
        }
      ]
    }
  ]
}